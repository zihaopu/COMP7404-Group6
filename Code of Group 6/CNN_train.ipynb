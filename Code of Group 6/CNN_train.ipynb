{
 "cells": [
  {
   "cell_type": "markdown",
   "metadata": {},
   "source": [
    "# CNN Training"
   ]
  },
  {
   "cell_type": "markdown",
   "metadata": {},
   "source": [
    "From our paper on \"Explainable Prediction of Acute Myocardial Infarction using Machine Learning and Shapley Values\""
   ]
  },
  {
   "cell_type": "code",
   "execution_count": 4,
   "metadata": {
    "collapsed": true,
    "jupyter": {
     "outputs_hidden": true
    },
    "tags": []
   },
   "outputs": [
    {
     "name": "stdout",
     "output_type": "stream",
     "text": [
      "Collecting keras==2.3.0\n",
      "  Downloading Keras-2.3.0-py2.py3-none-any.whl (377 kB)\n",
      "\u001b[K     |████████████████████████████████| 377 kB 11.3 MB/s eta 0:00:01\n",
      "\u001b[?25hRequirement already satisfied: six>=1.9.0 in /userhome/cs/zihaopu/anaconda3/envs/tensorflow/lib/python3.8/site-packages (from keras==2.3.0) (1.16.0)\n",
      "Requirement already satisfied: scipy>=0.14 in /userhome/cs/zihaopu/anaconda3/envs/tensorflow/lib/python3.8/site-packages (from keras==2.3.0) (1.4.1)\n",
      "Requirement already satisfied: keras-applications>=1.0.6 in /userhome/cs/zihaopu/anaconda3/envs/tensorflow/lib/python3.8/site-packages (from keras==2.3.0) (1.0.8)\n",
      "Requirement already satisfied: numpy>=1.9.1 in /userhome/cs/zihaopu/anaconda3/envs/tensorflow/lib/python3.8/site-packages (from keras==2.3.0) (1.19.2)\n",
      "Requirement already satisfied: pyyaml in /userhome/cs/zihaopu/anaconda3/envs/tensorflow/lib/python3.8/site-packages (from keras==2.3.0) (6.0)\n",
      "Requirement already satisfied: h5py in /userhome/cs/zihaopu/anaconda3/envs/tensorflow/lib/python3.8/site-packages (from keras==2.3.0) (2.10.0)\n",
      "Requirement already satisfied: keras-preprocessing>=1.0.5 in /userhome/cs/zihaopu/anaconda3/envs/tensorflow/lib/python3.8/site-packages (from keras==2.3.0) (1.1.2)\n",
      "Installing collected packages: keras\n",
      "  Attempting uninstall: keras\n",
      "    Found existing installation: Keras 2.2.4\n",
      "    Uninstalling Keras-2.2.4:\n",
      "      Successfully uninstalled Keras-2.2.4\n",
      "Successfully installed keras-2.3.0\n",
      "Note: you may need to restart the kernel to use updated packages.\n"
     ]
    }
   ],
   "source": [
    "pip install keras==2.3.0"
   ]
  },
  {
   "cell_type": "code",
   "execution_count": 7,
   "metadata": {
    "collapsed": true,
    "jupyter": {
     "outputs_hidden": true
    },
    "tags": []
   },
   "outputs": [
    {
     "name": "stdout",
     "output_type": "stream",
     "text": [
      "Collecting tensorflow==2.2.0\n",
      "  Using cached tensorflow-2.2.0-cp38-cp38-manylinux2010_x86_64.whl (516.3 MB)\n",
      "Requirement already satisfied: google-pasta>=0.1.8 in /userhome/cs/zihaopu/anaconda3/envs/tensorflow/lib/python3.8/site-packages (from tensorflow==2.2.0) (0.2.0)\n",
      "Requirement already satisfied: gast==0.3.3 in /userhome/cs/zihaopu/anaconda3/envs/tensorflow/lib/python3.8/site-packages (from tensorflow==2.2.0) (0.3.3)\n",
      "Requirement already satisfied: numpy<2.0,>=1.16.0 in /userhome/cs/zihaopu/anaconda3/envs/tensorflow/lib/python3.8/site-packages (from tensorflow==2.2.0) (1.19.2)\n",
      "Requirement already satisfied: termcolor>=1.1.0 in /userhome/cs/zihaopu/anaconda3/envs/tensorflow/lib/python3.8/site-packages (from tensorflow==2.2.0) (1.1.0)\n",
      "Requirement already satisfied: opt-einsum>=2.3.2 in /userhome/cs/zihaopu/anaconda3/envs/tensorflow/lib/python3.8/site-packages (from tensorflow==2.2.0) (3.3.0)\n",
      "Requirement already satisfied: wheel>=0.26 in /userhome/cs/zihaopu/anaconda3/envs/tensorflow/lib/python3.8/site-packages (from tensorflow==2.2.0) (0.37.1)\n",
      "Requirement already satisfied: tensorboard<2.3.0,>=2.2.0 in /userhome/cs/zihaopu/anaconda3/envs/tensorflow/lib/python3.8/site-packages (from tensorflow==2.2.0) (2.2.2)\n",
      "Requirement already satisfied: six>=1.12.0 in /userhome/cs/zihaopu/anaconda3/envs/tensorflow/lib/python3.8/site-packages (from tensorflow==2.2.0) (1.16.0)\n",
      "Requirement already satisfied: absl-py>=0.7.0 in /userhome/cs/zihaopu/anaconda3/envs/tensorflow/lib/python3.8/site-packages (from tensorflow==2.2.0) (0.15.0)\n",
      "Requirement already satisfied: protobuf>=3.8.0 in /userhome/cs/zihaopu/anaconda3/envs/tensorflow/lib/python3.8/site-packages (from tensorflow==2.2.0) (3.19.4)\n",
      "Requirement already satisfied: grpcio>=1.8.6 in /userhome/cs/zihaopu/anaconda3/envs/tensorflow/lib/python3.8/site-packages (from tensorflow==2.2.0) (1.32.0)\n",
      "Requirement already satisfied: h5py<2.11.0,>=2.10.0 in /userhome/cs/zihaopu/anaconda3/envs/tensorflow/lib/python3.8/site-packages (from tensorflow==2.2.0) (2.10.0)\n",
      "Requirement already satisfied: keras-preprocessing>=1.1.0 in /userhome/cs/zihaopu/anaconda3/envs/tensorflow/lib/python3.8/site-packages (from tensorflow==2.2.0) (1.1.2)\n",
      "Requirement already satisfied: scipy==1.4.1 in /userhome/cs/zihaopu/anaconda3/envs/tensorflow/lib/python3.8/site-packages (from tensorflow==2.2.0) (1.4.1)\n",
      "Requirement already satisfied: tensorflow-estimator<2.3.0,>=2.2.0 in /userhome/cs/zihaopu/anaconda3/envs/tensorflow/lib/python3.8/site-packages (from tensorflow==2.2.0) (2.2.0)\n",
      "Requirement already satisfied: astunparse==1.6.3 in /userhome/cs/zihaopu/anaconda3/envs/tensorflow/lib/python3.8/site-packages (from tensorflow==2.2.0) (1.6.3)\n",
      "Requirement already satisfied: wrapt>=1.11.1 in /userhome/cs/zihaopu/anaconda3/envs/tensorflow/lib/python3.8/site-packages (from tensorflow==2.2.0) (1.12.1)\n",
      "Requirement already satisfied: werkzeug>=0.11.15 in /userhome/cs/zihaopu/anaconda3/envs/tensorflow/lib/python3.8/site-packages (from tensorboard<2.3.0,>=2.2.0->tensorflow==2.2.0) (2.0.3)\n",
      "Requirement already satisfied: setuptools>=41.0.0 in /userhome/cs/zihaopu/anaconda3/envs/tensorflow/lib/python3.8/site-packages (from tensorboard<2.3.0,>=2.2.0->tensorflow==2.2.0) (58.0.4)\n",
      "Requirement already satisfied: google-auth-oauthlib<0.5,>=0.4.1 in /userhome/cs/zihaopu/anaconda3/envs/tensorflow/lib/python3.8/site-packages (from tensorboard<2.3.0,>=2.2.0->tensorflow==2.2.0) (0.4.6)\n",
      "Requirement already satisfied: google-auth<2,>=1.6.3 in /userhome/cs/zihaopu/anaconda3/envs/tensorflow/lib/python3.8/site-packages (from tensorboard<2.3.0,>=2.2.0->tensorflow==2.2.0) (1.35.0)\n",
      "Requirement already satisfied: tensorboard-plugin-wit>=1.6.0 in /userhome/cs/zihaopu/anaconda3/envs/tensorflow/lib/python3.8/site-packages (from tensorboard<2.3.0,>=2.2.0->tensorflow==2.2.0) (1.8.1)\n",
      "Requirement already satisfied: markdown>=2.6.8 in /userhome/cs/zihaopu/anaconda3/envs/tensorflow/lib/python3.8/site-packages (from tensorboard<2.3.0,>=2.2.0->tensorflow==2.2.0) (3.3.6)\n",
      "Requirement already satisfied: requests<3,>=2.21.0 in /userhome/cs/zihaopu/anaconda3/envs/tensorflow/lib/python3.8/site-packages (from tensorboard<2.3.0,>=2.2.0->tensorflow==2.2.0) (2.27.1)\n",
      "Requirement already satisfied: rsa<5,>=3.1.4 in /userhome/cs/zihaopu/anaconda3/envs/tensorflow/lib/python3.8/site-packages (from google-auth<2,>=1.6.3->tensorboard<2.3.0,>=2.2.0->tensorflow==2.2.0) (4.8)\n",
      "Requirement already satisfied: cachetools<5.0,>=2.0.0 in /userhome/cs/zihaopu/anaconda3/envs/tensorflow/lib/python3.8/site-packages (from google-auth<2,>=1.6.3->tensorboard<2.3.0,>=2.2.0->tensorflow==2.2.0) (4.2.4)\n",
      "Requirement already satisfied: pyasn1-modules>=0.2.1 in /userhome/cs/zihaopu/anaconda3/envs/tensorflow/lib/python3.8/site-packages (from google-auth<2,>=1.6.3->tensorboard<2.3.0,>=2.2.0->tensorflow==2.2.0) (0.2.8)\n",
      "Requirement already satisfied: requests-oauthlib>=0.7.0 in /userhome/cs/zihaopu/anaconda3/envs/tensorflow/lib/python3.8/site-packages (from google-auth-oauthlib<0.5,>=0.4.1->tensorboard<2.3.0,>=2.2.0->tensorflow==2.2.0) (1.3.1)\n",
      "Requirement already satisfied: importlib-metadata>=4.4 in /userhome/cs/zihaopu/anaconda3/envs/tensorflow/lib/python3.8/site-packages (from markdown>=2.6.8->tensorboard<2.3.0,>=2.2.0->tensorflow==2.2.0) (4.11.2)\n",
      "Requirement already satisfied: zipp>=0.5 in /userhome/cs/zihaopu/anaconda3/envs/tensorflow/lib/python3.8/site-packages (from importlib-metadata>=4.4->markdown>=2.6.8->tensorboard<2.3.0,>=2.2.0->tensorflow==2.2.0) (3.7.0)\n",
      "Requirement already satisfied: pyasn1<0.5.0,>=0.4.6 in /userhome/cs/zihaopu/anaconda3/envs/tensorflow/lib/python3.8/site-packages (from pyasn1-modules>=0.2.1->google-auth<2,>=1.6.3->tensorboard<2.3.0,>=2.2.0->tensorflow==2.2.0) (0.4.8)\n",
      "Requirement already satisfied: charset-normalizer~=2.0.0 in /userhome/cs/zihaopu/anaconda3/envs/tensorflow/lib/python3.8/site-packages (from requests<3,>=2.21.0->tensorboard<2.3.0,>=2.2.0->tensorflow==2.2.0) (2.0.12)\n",
      "Requirement already satisfied: urllib3<1.27,>=1.21.1 in /userhome/cs/zihaopu/anaconda3/envs/tensorflow/lib/python3.8/site-packages (from requests<3,>=2.21.0->tensorboard<2.3.0,>=2.2.0->tensorflow==2.2.0) (1.26.8)\n",
      "Requirement already satisfied: idna<4,>=2.5 in /userhome/cs/zihaopu/anaconda3/envs/tensorflow/lib/python3.8/site-packages (from requests<3,>=2.21.0->tensorboard<2.3.0,>=2.2.0->tensorflow==2.2.0) (3.3)\n",
      "Requirement already satisfied: certifi>=2017.4.17 in /userhome/cs/zihaopu/anaconda3/envs/tensorflow/lib/python3.8/site-packages (from requests<3,>=2.21.0->tensorboard<2.3.0,>=2.2.0->tensorflow==2.2.0) (2021.10.8)\n",
      "Requirement already satisfied: oauthlib>=3.0.0 in /userhome/cs/zihaopu/anaconda3/envs/tensorflow/lib/python3.8/site-packages (from requests-oauthlib>=0.7.0->google-auth-oauthlib<0.5,>=0.4.1->tensorboard<2.3.0,>=2.2.0->tensorflow==2.2.0) (3.2.0)\n",
      "Installing collected packages: tensorflow\n",
      "  Attempting uninstall: tensorflow\n",
      "    Found existing installation: tensorflow 2.4.1\n",
      "    Uninstalling tensorflow-2.4.1:\n",
      "      Successfully uninstalled tensorflow-2.4.1\n",
      "\u001b[31mERROR: Could not install packages due to an OSError: [Errno 39] Directory not empty: 'service'\n",
      "\u001b[0m\n",
      "Note: you may need to restart the kernel to use updated packages.\n"
     ]
    }
   ],
   "source": [
    "pip install tensorflow==2.2.0"
   ]
  },
  {
   "cell_type": "code",
   "execution_count": 1,
   "metadata": {},
   "outputs": [
    {
     "name": "stdout",
     "output_type": "stream",
     "text": [
      "2.2.0\n"
     ]
    }
   ],
   "source": [
    "import tensorflow\n",
    "print(tensorflow.__version__)"
   ]
  },
  {
   "cell_type": "code",
   "execution_count": 2,
   "metadata": {
    "tags": []
   },
   "outputs": [
    {
     "name": "stderr",
     "output_type": "stream",
     "text": [
      "Using TensorFlow backend.\n"
     ]
    }
   ],
   "source": [
    "# Import libraries\n",
    "import pandas as pd\n",
    "import numpy as np\n",
    "import pylab as plt\n",
    "from keras import optimizers, losses, activations, models, regularizers\n",
    "from keras.callbacks import ModelCheckpoint, EarlyStopping, LearningRateScheduler, ReduceLROnPlateau\n",
    "from keras.layers import Dense, Input, Dropout, Convolution1D, MaxPool1D, Flatten, GlobalMaxPool1D, GlobalAveragePooling1D, \\\n",
    "    concatenate\n",
    "from keras.utils import to_categorical\n",
    "from keras.models import load_model, Sequential\n",
    "from sklearn.metrics import f1_score, accuracy_score, roc_auc_score, confusion_matrix\n",
    "from sklearn.model_selection import train_test_split"
   ]
  },
  {
   "cell_type": "code",
   "execution_count": 2,
   "metadata": {},
   "outputs": [
    {
     "data": {
      "text/plain": [
       "'/userhome/cs/zihaopu/0704/ecg-view-II-machine-learning-master/CNN'"
      ]
     },
     "execution_count": 2,
     "metadata": {},
     "output_type": "execute_result"
    }
   ],
   "source": [
    "import os\n",
    "os.path.abspath('.')"
   ]
  },
  {
   "cell_type": "markdown",
   "metadata": {},
   "source": [
    "# Loading Data"
   ]
  },
  {
   "cell_type": "code",
   "execution_count": 3,
   "metadata": {},
   "outputs": [],
   "source": [
    "# Load data\n",
    "# Import train and test data into dataframes from csv files produced using the data processing code\n",
    "df_cnn_train = pd.read_csv(\"/userhome/cs/zihaopu/0704/ecg-view-II-machine-learning-master/data processing/train.csv\", header=None)\n",
    "df_cnn_train = df_cnn_train.sample(frac=1)\n",
    "df_cnn_test = pd.read_csv(\"/userhome/cs/zihaopu/0704/ecg-view-II-machine-learning-master/data processing/test.csv\", header=None)"
   ]
  },
  {
   "cell_type": "code",
   "execution_count": 4,
   "metadata": {},
   "outputs": [
    {
     "data": {
      "text/plain": [
       "pandas.core.frame.DataFrame"
      ]
     },
     "execution_count": 4,
     "metadata": {},
     "output_type": "execute_result"
    }
   ],
   "source": [
    "type(df_cnn_train)"
   ]
  },
  {
   "cell_type": "code",
   "execution_count": 4,
   "metadata": {},
   "outputs": [],
   "source": [
    "# Get data from dataframes\n",
    "y_cnn = np.array(df_cnn_train[11].values).astype(np.int8)\n",
    "y_cnn=to_categorical(y_cnn)\n",
    "x_cnn = np.array(df_cnn_train[list(range(11))].values)[..., np.newaxis]\n",
    "y_cnn_test = np.array(df_cnn_test[11].values).astype(np.int8)\n",
    "x_cnn_test = np.array(df_cnn_test[list(range(11))].values)[..., np.newaxis]"
   ]
  },
  {
   "cell_type": "markdown",
   "metadata": {},
   "source": [
    "# Model Definition + Training"
   ]
  },
  {
   "cell_type": "code",
   "execution_count": 5,
   "metadata": {},
   "outputs": [],
   "source": [
    "# Model definition\n",
    "def get_model(learning_rate=0.001):\n",
    "    nclass = 2\n",
    "    inp = Input(shape=(11, 1))\n",
    "    \n",
    "    cnn = Convolution1D(16, kernel_size=5, activation=activations.relu, padding=\"valid\")(inp)\n",
    "    cnn = Dropout(rate=0.1)(cnn) \n",
    "    cnn = Convolution1D(32, kernel_size=3, activation=activations.relu, padding=\"valid\")(cnn)\n",
    "    cnn = Dropout(rate=0.1)(cnn)\n",
    "    cnn = Convolution1D(64, kernel_size=3, activation=activations.relu, padding=\"valid\")(cnn)\n",
    "    cnn = Dropout(rate=0.1)(cnn)\n",
    "    cnn = Convolution1D(256, kernel_size=3, activation=activations.relu, padding=\"valid\")(cnn)\n",
    "    cnn = GlobalMaxPool1D()(cnn)\n",
    "    cnn = Dropout(rate=0.1)(cnn)\n",
    "    dense_1 = Dense(64, activation=activations.relu, name=\"dense_1\", kernel_regularizer=regularizers.l2(l=0.1))(cnn)\n",
    "    dense_1 = Dense(16, activation=activations.relu, name=\"dense_2\", kernel_regularizer=regularizers.l2(l=0.1))(dense_1)\n",
    "    dense_1 = Dense(nclass, activation=activations.softmax, name=\"dense_3_ecg_view\")(dense_1) \n",
    "    \n",
    "\n",
    "    model = models.Model(inputs=inp, outputs=dense_1)\n",
    "    opt = optimizers.Adam(learning_rate)\n",
    "\n",
    "    model.compile(optimizer=opt, loss=losses.binary_crossentropy, metrics=['acc'])\n",
    "    return model"
   ]
  },
  {
   "cell_type": "code",
   "execution_count": 6,
   "metadata": {
    "scrolled": true
   },
   "outputs": [
    {
     "name": "stdout",
     "output_type": "stream",
     "text": [
      "ERROR! Session/line number was not unique in database. History logging moved to new session 126\n",
      "Model: \"model_2\"\n",
      "_________________________________________________________________\n",
      "Layer (type)                 Output Shape              Param #   \n",
      "=================================================================\n",
      "input_2 (InputLayer)         (None, 11, 1)             0         \n",
      "_________________________________________________________________\n",
      "conv1d_5 (Conv1D)            (None, 7, 16)             96        \n",
      "_________________________________________________________________\n",
      "dropout_5 (Dropout)          (None, 7, 16)             0         \n",
      "_________________________________________________________________\n",
      "conv1d_6 (Conv1D)            (None, 5, 32)             1568      \n",
      "_________________________________________________________________\n",
      "dropout_6 (Dropout)          (None, 5, 32)             0         \n",
      "_________________________________________________________________\n",
      "conv1d_7 (Conv1D)            (None, 3, 64)             6208      \n",
      "_________________________________________________________________\n",
      "dropout_7 (Dropout)          (None, 3, 64)             0         \n",
      "_________________________________________________________________\n",
      "conv1d_8 (Conv1D)            (None, 1, 256)            49408     \n",
      "_________________________________________________________________\n",
      "global_max_pooling1d_2 (Glob (None, 256)               0         \n",
      "_________________________________________________________________\n",
      "dropout_8 (Dropout)          (None, 256)               0         \n",
      "_________________________________________________________________\n",
      "dense_1 (Dense)              (None, 64)                16448     \n",
      "_________________________________________________________________\n",
      "dense_2 (Dense)              (None, 16)                1040      \n",
      "_________________________________________________________________\n",
      "dense_3_ecg_view (Dense)     (None, 2)                 34        \n",
      "=================================================================\n",
      "Total params: 74,802\n",
      "Trainable params: 74,802\n",
      "Non-trainable params: 0\n",
      "_________________________________________________________________\n",
      "Train on 371970 samples, validate on 41331 samples\n",
      "Epoch 1/20\n",
      " - 100s - loss: 0.5683 - acc: 0.7251 - val_loss: 0.4946 - val_acc: 0.7387\n",
      "\n",
      "Epoch 00001: val_acc improved from -inf to 0.73872, saving model to cnn_ecgview.h5\n",
      "Epoch 2/20\n",
      " - 102s - loss: 0.5020 - acc: 0.7334 - val_loss: 0.4981 - val_acc: 0.7337\n",
      "\n",
      "Epoch 00002: val_acc did not improve from 0.73872\n",
      "Epoch 3/20\n",
      " - 102s - loss: 0.4993 - acc: 0.7347 - val_loss: 0.4875 - val_acc: 0.7442\n",
      "\n",
      "Epoch 00003: val_acc improved from 0.73872 to 0.74421, saving model to cnn_ecgview.h5\n",
      "Epoch 4/20\n",
      " - 101s - loss: 0.4969 - acc: 0.7365 - val_loss: 0.4884 - val_acc: 0.7424\n",
      "\n",
      "Epoch 00004: val_acc did not improve from 0.74421\n",
      "Epoch 5/20\n",
      " - 100s - loss: 0.4956 - acc: 0.7374 - val_loss: 0.4850 - val_acc: 0.7414\n",
      "\n",
      "Epoch 00005: val_acc did not improve from 0.74421\n",
      "Epoch 6/20\n",
      " - 100s - loss: 0.4944 - acc: 0.7383 - val_loss: 0.4837 - val_acc: 0.7442\n",
      "\n",
      "Epoch 00006: val_acc did not improve from 0.74421\n",
      "Epoch 7/20\n",
      " - 101s - loss: 0.4928 - acc: 0.7396 - val_loss: 0.4824 - val_acc: 0.7472\n",
      "\n",
      "Epoch 00007: val_acc improved from 0.74421 to 0.74724, saving model to cnn_ecgview.h5\n",
      "Epoch 8/20\n",
      " - 102s - loss: 0.4915 - acc: 0.7403 - val_loss: 0.4788 - val_acc: 0.7498\n",
      "\n",
      "Epoch 00008: val_acc improved from 0.74724 to 0.74982, saving model to cnn_ecgview.h5\n",
      "Epoch 9/20\n",
      " - 102s - loss: 0.4908 - acc: 0.7409 - val_loss: 0.4806 - val_acc: 0.7493\n",
      "\n",
      "Epoch 00009: val_acc did not improve from 0.74982\n",
      "Epoch 10/20\n",
      " - 101s - loss: 0.4895 - acc: 0.7417 - val_loss: 0.4864 - val_acc: 0.7472\n",
      "\n",
      "Epoch 00010: val_acc did not improve from 0.74982\n",
      "Epoch 11/20\n",
      " - 101s - loss: 0.4886 - acc: 0.7424 - val_loss: 0.4770 - val_acc: 0.7499\n",
      "\n",
      "Epoch 00011: val_acc improved from 0.74982 to 0.74987, saving model to cnn_ecgview.h5\n",
      "Epoch 12/20\n",
      " - 101s - loss: 0.4877 - acc: 0.7441 - val_loss: 0.4941 - val_acc: 0.7378\n",
      "\n",
      "Epoch 00012: val_acc did not improve from 0.74987\n",
      "Epoch 13/20\n",
      " - 101s - loss: 0.4869 - acc: 0.7436 - val_loss: 0.4817 - val_acc: 0.7524\n",
      "\n",
      "Epoch 00013: val_acc improved from 0.74987 to 0.75237, saving model to cnn_ecgview.h5\n",
      "Epoch 14/20\n",
      " - 99s - loss: 0.4858 - acc: 0.7449 - val_loss: 0.4773 - val_acc: 0.7548\n",
      "\n",
      "Epoch 00014: val_acc improved from 0.75237 to 0.75481, saving model to cnn_ecgview.h5\n",
      "Epoch 15/20\n",
      " - 101s - loss: 0.4851 - acc: 0.7453 - val_loss: 0.4754 - val_acc: 0.7559\n",
      "\n",
      "Epoch 00015: val_acc improved from 0.75481 to 0.75592, saving model to cnn_ecgview.h5\n",
      "Epoch 16/20\n",
      " - 103s - loss: 0.4841 - acc: 0.7460 - val_loss: 0.4785 - val_acc: 0.7534\n",
      "\n",
      "Epoch 00016: val_acc did not improve from 0.75592\n",
      "Epoch 17/20\n",
      " - 97s - loss: 0.4840 - acc: 0.7458 - val_loss: 0.4715 - val_acc: 0.7575\n",
      "\n",
      "Epoch 00017: val_acc improved from 0.75592 to 0.75749, saving model to cnn_ecgview.h5\n",
      "Epoch 18/20\n",
      " - 101s - loss: 0.4834 - acc: 0.7470 - val_loss: 0.4718 - val_acc: 0.7588\n",
      "\n",
      "Epoch 00018: val_acc improved from 0.75749 to 0.75878, saving model to cnn_ecgview.h5\n",
      "Epoch 19/20\n",
      " - 101s - loss: 0.4832 - acc: 0.7464 - val_loss: 0.4696 - val_acc: 0.7583\n",
      "\n",
      "Epoch 00019: val_acc did not improve from 0.75878\n",
      "Epoch 20/20\n",
      " - 101s - loss: 0.4822 - acc: 0.7481 - val_loss: 0.4702 - val_acc: 0.7586\n",
      "\n",
      "Epoch 00020: val_acc did not improve from 0.75878\n"
     ]
    }
   ],
   "source": [
    "# Model Training\n",
    "# Load model and model summary\n",
    "model = get_model()\n",
    "model.summary()\n",
    "\n",
    "# File path to save the model\n",
    "file_path = \"cnn_ecgview.h5\"\n",
    "\n",
    "# Checkpoint the model's weight based on the accuracy of the model\n",
    "checkpoint = ModelCheckpoint(file_path, monitor='val_acc', verbose=1, save_best_only=True, mode='max')\n",
    "\n",
    "# Set early stopping based on accuracy. It stops after 10 consecutive epochs of no accuracy improvement.\n",
    "early = EarlyStopping(monitor=\"val_acc\", mode=\"max\", patience=10, verbose=1)\n",
    "\n",
    "# Reduce learning rate based on accuracy. It reduces the rate after 7 consecutive epochs of no accuracy improvement.\n",
    "redonplat = ReduceLROnPlateau(monitor=\"val_acc\", mode=\"max\", patience=7, verbose=2)\n",
    "\n",
    "callbacks_list = [checkpoint, early, redonplat]\n",
    "\n",
    "# Train the model, load weights into above file path to save the model\n",
    "model.fit(x_cnn, y_cnn, epochs=20, verbose=2, callbacks=callbacks_list, validation_split=0.1)\n",
    "model.load_weights(file_path)\n",
    "\n",
    "# The file will be saved in the file_path and can be loaded later using Keras for evaluation"
   ]
  }
 ],
 "metadata": {
  "kernelspec": {
   "display_name": "Python 3 (ipykernel)",
   "language": "python",
   "name": "python3"
  },
  "language_info": {
   "codemirror_mode": {
    "name": "ipython",
    "version": 3
   },
   "file_extension": ".py",
   "mimetype": "text/x-python",
   "name": "python",
   "nbconvert_exporter": "python",
   "pygments_lexer": "ipython3",
   "version": "3.8.12"
  }
 },
 "nbformat": 4,
 "nbformat_minor": 4
}
