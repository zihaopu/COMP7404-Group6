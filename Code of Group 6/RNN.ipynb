{
  "cells": [
    {
      "cell_type": "code",
      "source": [
        "from google.colab import drive\n",
        "drive.mount(\"/content/gdrive\")\n",
        "%cd ../content/gdrive/MyDrive/COMP7404/ecg-view-II-machine-learning\n",
        "! git pull"
      ],
      "metadata": {
        "colab": {
          "base_uri": "https://localhost:8080/"
        },
        "id": "IBd8NK3I_Ir_",
        "outputId": "0880f72e-82c1-4bca-f998-f0c867c8faf5"
      },
      "execution_count": null,
      "outputs": [
        {
          "output_type": "stream",
          "name": "stdout",
          "text": [
            "Mounted at /content/gdrive\n",
            "/content/gdrive/MyDrive/COMP7404/ecg-view-II-machine-learning\n",
            "Already up to date.\n"
          ]
        }
      ]
    },
    {
      "cell_type": "markdown",
      "metadata": {
        "id": "BBMRRxGG_HJG"
      },
      "source": [
        "# RNN Training"
      ]
    },
    {
      "cell_type": "markdown",
      "metadata": {
        "id": "zAMFerUB_HJL"
      },
      "source": [
        "From our paper on \"Explainable Prediction of Acute Myocardial Infarction using Machine Learning and Shapley Values\""
      ]
    },
    {
      "cell_type": "code",
      "execution_count": null,
      "metadata": {
        "colab": {
          "base_uri": "https://localhost:8080/"
        },
        "id": "jOfeHAYK_HJM",
        "outputId": "fc95bcfe-d3b3-4a92-a86f-dcd89e69faba"
      },
      "outputs": [
        {
          "output_type": "stream",
          "name": "stdout",
          "text": [
            "2.8.2\n"
          ]
        }
      ],
      "source": [
        "# Import libraries \n",
        "from tensorflow.keras import optimizers, losses, activations, models\n",
        "from tensorflow.keras.callbacks import ModelCheckpoint, EarlyStopping, LearningRateScheduler, ReduceLROnPlateau\n",
        "from tensorflow.keras.layers import Layer, GRU, LSTM, Dense, Input, Dropout, Convolution1D, MaxPool1D, GlobalMaxPool1D, GlobalAveragePooling1D, GlobalAveragePooling2D,\\\n",
        "    concatenate\n",
        "from tensorflow.keras.layers import LeakyReLU\n",
        "from tensorflow.keras import regularizers, backend, initializers\n",
        "from tensorflow.keras.models import Sequential\n",
        "from tensorflow.keras.utils import to_categorical\n",
        "import tensorflow.keras.backend as K\n",
        "from tensorflow.keras.initializers import Ones, Zeros\n",
        "\n",
        "from sklearn.metrics import f1_score, accuracy_score, roc_auc_score\n",
        "from sklearn import preprocessing\n",
        "from sklearn import metrics\n",
        "\n",
        "import time\n",
        "import gc\n",
        "\n",
        "import pandas as pd\n",
        "import numpy as np\n",
        "import pylab as plt\n",
        "import tensorflow as tf\n",
        "from numpy import loadtxt\n",
        "from numpy import savetxt\n",
        "from tensorflow.python.framework import ops\n",
        "print(tf.__version__)\n",
        "\n",
        "# Visualization Libraries\n",
        "import seaborn as sns\n",
        "\n",
        "# Size of matplotlib histogram bins\n",
        "bin_size = 20"
      ]
    },
    {
      "cell_type": "code",
      "source": [
        "\n",
        "!pip install keras.utils"
      ],
      "metadata": {
        "id": "_V51_vNtA2Rf"
      },
      "execution_count": null,
      "outputs": []
    },
    {
      "cell_type": "markdown",
      "metadata": {
        "id": "-ssj2U3x_HJO"
      },
      "source": [
        "# Loading Data"
      ]
    },
    {
      "cell_type": "code",
      "source": [
        "! pwd "
      ],
      "metadata": {
        "colab": {
          "base_uri": "https://localhost:8080/"
        },
        "id": "oOunZxK4AN6U",
        "outputId": "84d72b20-80d1-4b14-c620-c3332a9f004f"
      },
      "execution_count": null,
      "outputs": [
        {
          "output_type": "stream",
          "name": "stdout",
          "text": [
            "/content/gdrive/MyDrive/COMP7404/ecg-view-II-machine-learning\n"
          ]
        }
      ]
    },
    {
      "cell_type": "code",
      "execution_count": null,
      "metadata": {
        "id": "QNmTRWBW_HJP"
      },
      "outputs": [],
      "source": [
        "# Load data\n",
        "train = loadtxt('train.csv', delimiter=',')\n",
        "test = loadtxt('test.csv', delimiter=',')\n",
        "\n",
        "# Split array\n",
        "train_x = train[:,:11]\n",
        "test_x = test[:,:11]\n",
        "train_y = train[:,11]\n",
        "test_y = test[:,11]"
      ]
    },
    {
      "cell_type": "code",
      "execution_count": null,
      "metadata": {
        "colab": {
          "base_uri": "https://localhost:8080/"
        },
        "id": "a8Cp48V8_HJP",
        "outputId": "fa7c6396-0fcd-4724-a9b4-e8f9329f13f9"
      },
      "outputs": [
        {
          "output_type": "execute_result",
          "data": {
            "text/plain": [
              "{0.0: 275553, 1.0: 137748}"
            ]
          },
          "metadata": {},
          "execution_count": 7
        }
      ],
      "source": [
        "# Check the new distribution in the training and testing sets\n",
        "unique, counts = np.unique(train_y, return_counts=True)\n",
        "dict(zip(unique, counts))"
      ]
    },
    {
      "cell_type": "code",
      "execution_count": null,
      "metadata": {
        "colab": {
          "base_uri": "https://localhost:8080/"
        },
        "id": "Ayeh_tqO_HJR",
        "outputId": "927bdaad-e8e8-44eb-f1d9-880a0b88d00e"
      },
      "outputs": [
        {
          "output_type": "execute_result",
          "data": {
            "text/plain": [
              "{0.0: 68865, 1.0: 34461}"
            ]
          },
          "metadata": {},
          "execution_count": 8
        }
      ],
      "source": [
        "unique, counts = np.unique(test_y, return_counts=True)\n",
        "dict(zip(unique, counts))"
      ]
    },
    {
      "cell_type": "markdown",
      "metadata": {
        "id": "ACrqePBm_HJR"
      },
      "source": [
        "# Model Definition + Training"
      ]
    },
    {
      "cell_type": "code",
      "execution_count": null,
      "metadata": {
        "id": "ME9OrzDx_HJS"
      },
      "outputs": [],
      "source": [
        "start = time.clock() \n",
        "\n",
        "class LayerNormalization(Layer):\n",
        "    def __init__(self, eps=1e-6, **kwargs):\n",
        "        self.eps = eps\n",
        "        super(LayerNormalization, self).__init__(**kwargs)\n",
        "    def build(self, input_shape):\n",
        "        self.gamma = self.add_weight(name='gamma', shape=input_shape[-1:],\n",
        "                                     initializer=Ones(), trainable=True)\n",
        "        self.beta = self.add_weight(name='beta', shape=input_shape[-1:],\n",
        "                                    initializer=Zeros(), trainable=True)\n",
        "        super(LayerNormalization, self).build(input_shape)\n",
        "    def call(self, x):\n",
        "        mean = K.mean(x, axis=-1, keepdims=True)\n",
        "        std = K.std(x, axis=-1, keepdims=True)\n",
        "        return self.gamma * (x - mean) / (std + self.eps) + self.beta\n",
        "    def compute_output_shape(self, input_shape):\n",
        "        return input_shape\n",
        "    def get_config(self):\n",
        "        config = super().get_config().copy()\n",
        "        config.update({\n",
        "            'eps': self.eps,\n",
        "            'gamma': self.gamma,\n",
        "            'beta': self.beta\n",
        "        })\n",
        "        return config\n",
        "\n",
        "layer_size1 = 12\n",
        "layer_size2 = 10\n",
        "layer_size3 = 7\n",
        "layer_size4 = 5\n",
        "layer_size5 = 4\n",
        "layer_size6 = 3\n",
        "timesteps = 1 # static data\n",
        "data_dim = 11\n",
        "\n",
        "X_train = np.reshape(train_x, (train_x.shape[0], 1, train_x.shape[1]))\n",
        "X_test = np.reshape(test_x, (test_x.shape[0], 1, test_x.shape[1]))\n",
        "train_y = to_categorical(train_y)\n",
        "alpha = 0.001\n",
        "\n",
        "model = Sequential()\n",
        "model.add(GRU(layer_size1, return_sequences=True, input_shape=(timesteps, data_dim)))\n",
        "model.add(LayerNormalization())\n",
        "model.add(LeakyReLU(alpha=alpha))\n",
        "model.add(GRU(layer_size2, return_sequences=True))\n",
        "model.add(LayerNormalization())\n",
        "model.add(LeakyReLU(alpha=alpha))\n",
        "model.add(GRU(layer_size3, return_sequences=True))\n",
        "model.add(LayerNormalization())\n",
        "model.add(LeakyReLU(alpha=alpha))\n",
        "model.add(GRU(layer_size4, return_sequences=True))\n",
        "model.add(LayerNormalization())\n",
        "model.add(LeakyReLU(alpha=alpha))\n",
        "model.add(GRU(layer_size5, return_sequences=True))\n",
        "model.add(LayerNormalization())\n",
        "model.add(LeakyReLU(alpha=alpha))\n",
        "model.add(GRU(layer_size6, return_sequences=False))\n",
        "model.add(LayerNormalization())\n",
        "model.add(LeakyReLU(alpha=alpha))\n",
        "model.add(Dense(2, activation='softmax'))\n",
        "\n",
        "\n",
        "opt = tf.keras.optimizers.Adam(alpha)\n",
        "model.compile(loss='binary_crossentropy', optimizer=opt, metrics=['accuracy'])\n",
        "# model.compile(optimizer='adam',loss = tf.keras.losses.SparseCategoricalCrossentropy(from_logits=True), metrics=['accuracy'])\n",
        "\n",
        "# Set early stopping based on accuracy. It stops after 10 consecutive epochs of no accuracy improvement.\n",
        "early = EarlyStopping(monitor='val_accuracy', patience=10, verbose=1)\n",
        "\n",
        "# Reduce learning rate based on accuracy. It reduces the rate after 7 consecutive epochs of no accuracy improvement.\n",
        "redonplat = ReduceLROnPlateau(monitor=\"val_accuracy\", mode=\"max\", patience=7, verbose=0)\n",
        "\n",
        "callbacks_list = [early, redonplat]\n",
        "\n",
        "# Train the model\n",
        "history = model.fit(X_train, train_y, epochs=50, verbose=0, callbacks=callbacks_list, validation_split=0.1) ###change epoch number\n",
        "end = time.clock()\n",
        "print(\"Time for training: {}mins \".format((end-start)/60)) \n",
        "\n",
        "# Save the model\n",
        "tf.saved_model.save(model, \"/rnn_ecgview.h5\")\n",
        "model.save(\"rnn_ecgview.h5\")"
      ]
    },
    {
      "cell_type": "code",
      "source": [
        "tf.saved_model.save(model, \"/rnn_ecgview.h5\")"
      ],
      "metadata": {
        "id": "inC2IvJzzWAx",
        "colab": {
          "base_uri": "https://localhost:8080/"
        },
        "outputId": "81629047-9656-480e-d7b2-eb43acf3543d"
      },
      "execution_count": null,
      "outputs": [
        {
          "output_type": "stream",
          "name": "stderr",
          "text": [
            "WARNING:absl:Found untraced functions such as gru_cell_layer_call_fn, gru_cell_layer_call_and_return_conditional_losses, gru_cell_1_layer_call_fn, gru_cell_1_layer_call_and_return_conditional_losses, gru_cell_2_layer_call_fn while saving (showing 5 of 12). These functions will not be directly callable after loading.\n"
          ]
        },
        {
          "output_type": "stream",
          "name": "stdout",
          "text": [
            "INFO:tensorflow:Assets written to: /rnn_ecgview.h5/assets\n"
          ]
        },
        {
          "output_type": "stream",
          "name": "stderr",
          "text": [
            "INFO:tensorflow:Assets written to: /rnn_ecgview.h5/assets\n"
          ]
        }
      ]
    },
    {
      "cell_type": "code",
      "source": [
        "model.save_weights(\"rnn_ecgview.h5\")\n",
        "model.load_weights(\"rnn_ecgview.h5\")\n"
      ],
      "metadata": {
        "id": "G3LfAy8MP7rJ"
      },
      "execution_count": null,
      "outputs": []
    },
    {
      "cell_type": "code",
      "source": [
        "history.history"
      ],
      "metadata": {
        "id": "puO7n9T1zjvo"
      },
      "execution_count": null,
      "outputs": []
    },
    {
      "cell_type": "markdown",
      "source": [
        "Model Accuracy Plot"
      ],
      "metadata": {
        "id": "PsdtPiB1jzYG"
      }
    },
    {
      "cell_type": "code",
      "execution_count": null,
      "metadata": {
        "id": "bEWdGgV__HJU",
        "colab": {
          "base_uri": "https://localhost:8080/",
          "height": 295
        },
        "outputId": "3d168d50-10ff-4394-d65c-92cbe550a230"
      },
      "outputs": [
        {
          "output_type": "display_data",
          "data": {
            "text/plain": [
              "<Figure size 432x288 with 1 Axes>"
            ],
            "image/png": "[encoded data removed]"
          },
          "metadata": {
            "needs_background": "light"
          }
        }
      ],
      "source": [
        "# Plot model accuracy evolution\n",
        "plt.plot(history.history['accuracy'])\n",
        "plt.plot(history.history['val_accuracy'])\n",
        "plt.title('model accuracy')\n",
        "plt.ylabel('accuracy')\n",
        "plt.xlabel('epoch')\n",
        "plt.legend(['train', 'val'], loc='upper left')\n",
        "plt.show()"
      ]
    },
    {
      "cell_type": "markdown",
      "source": [
        "Model Loss plot"
      ],
      "metadata": {
        "id": "AqAuF6kUj8Zg"
      }
    },
    {
      "cell_type": "code",
      "execution_count": null,
      "metadata": {
        "id": "_R9z61PC_HJV",
        "colab": {
          "base_uri": "https://localhost:8080/",
          "height": 295
        },
        "outputId": "c14f5bec-c99b-4b89-d237-41f66633e494"
      },
      "outputs": [
        {
          "output_type": "display_data",
          "data": {
            "text/plain": [
              "<Figure size 432x288 with 1 Axes>"
            ],
            "image/png": "[encoded data removed]"
          },
          "metadata": {
            "needs_background": "light"
          }
        }
      ],
      "source": [
        "# Plot model loss evolution\n",
        "plt.plot(history.history['loss'])\n",
        "plt.plot(history.history['val_loss'])\n",
        "plt.title('model loss')\n",
        "plt.ylabel('loss')\n",
        "plt.xlabel('epoch')\n",
        "plt.legend(['train', 'val'], loc='upper left')\n",
        "plt.show()"
      ]
    },
    {
      "cell_type": "markdown",
      "source": [
        "# Evaluation"
      ],
      "metadata": {
        "id": "Xz0gIF3aj_Dz"
      }
    },
    {
      "cell_type": "code",
      "source": [
        "# Test the model\n",
        "start = time.clock() \n",
        "pred_test = model.predict(X_test)\n",
        "end = time.clock()\n",
        "pred_test = np.argmax(pred_test, axis=-1)\n",
        "print(\"Time for prediction: {} \".format((end-start))) \n",
        "\n",
        "# Get f1 score \n",
        "f1 = f1_score(test_y, pred_test, average=\"macro\")\n",
        "print(\"Test f1 score : %s \"% f1)\n",
        "\n",
        "# Get ROC AUC score \n",
        "roc = roc_auc_score(test_y, pred_test)\n",
        "print(\"Test ROC AUC Score : %s \"% roc)\n",
        "\n",
        "# Get the accuracy\n",
        "acc = accuracy_score(test_y, pred_test)\n",
        "print(\"Test accuracy score : %s \"% acc)"
      ],
      "metadata": {
        "id": "uMwjZIoxy8ft"
      },
      "execution_count": null,
      "outputs": []
    },
    {
      "cell_type": "code",
      "source": [
        "\n",
        "# Import libraries\n",
        "from tensorflow.keras import optimizers, losses, activations, models\n",
        "from tensorflow.keras.callbacks import ModelCheckpoint, EarlyStopping, LearningRateScheduler, ReduceLROnPlateau\n",
        "from tensorflow.keras.layers import Layer, GRU, LSTM, Dense, Input, Dropout, Convolution1D, MaxPool1D, GlobalMaxPool1D, GlobalAveragePooling1D, \\\n",
        "    concatenate\n",
        "from tensorflow.keras.layers import LeakyReLU\n",
        "from tensorflow.keras import regularizers, backend, initializers\n",
        "from tensorflow.keras.models import Sequential\n",
        "from tensorflow.keras.utils import to_categorical\n",
        "from tensorflow.keras.initializers import Ones, Zeros\n",
        "import tensorflow.keras.backend as K\n",
        "from tensorflow.keras.models import load_model\n",
        "\n",
        "from sklearn.metrics import f1_score, accuracy_score, roc_auc_score, confusion_matrix\n",
        "from sklearn import preprocessing\n",
        "\n",
        "import time\n",
        "import gc\n",
        "\n",
        "import pandas as pd\n",
        "import numpy as np\n",
        "import pylab as plt\n",
        "import tensorflow as tf\n",
        "from numpy import loadtxt\n",
        "from numpy import savetxt\n",
        "from tensorflow.python.framework import ops\n",
        "print(tf.__version__)\n",
        "\n",
        "# Visualization Libraries\n",
        "import seaborn as sns"
      ],
      "metadata": {
        "colab": {
          "base_uri": "https://localhost:8080/"
        },
        "id": "zG8SU8t26kMR",
        "outputId": "0c51cc41-1fb3-4a6c-d2d4-f8b35a5efda7"
      },
      "execution_count": null,
      "outputs": [
        {
          "output_type": "stream",
          "name": "stdout",
          "text": [
            "2.8.2\n"
          ]
        }
      ]
    },
    {
      "cell_type": "code",
      "source": [
        "\n",
        "model = model\n",
        "# model = load_model('rnn_ecgview.h5', custom_objects={'LayerNormalization': LayerNormalization})\n",
        "model.summary()\n",
        "\n",
        "# Test the model\n",
        "start = time.clock() \n",
        "pred_test = model.predict(X_test)\n",
        "end = time.clock()\n",
        "pred_test = np.argmax(pred_test, axis=-1)\n",
        "print(\"Time for prediction: {} \".format((end-start))) \n",
        "\n",
        "# Get f1 score \n",
        "f1 = f1_score(test_y, pred_test, average=\"macro\")\n",
        "print(\"Test f1 score : %s \"% f1)\n",
        "\n",
        "# Get ROC AUC score\n",
        "roc = roc_auc_score(test_y, pred_test)\n",
        "print(\"Test ROC AUC Score : %s \"% roc)\n",
        "\n",
        "# Get the accuracy\n",
        "acc = accuracy_score(test_y, pred_test)\n",
        "print(\"Test accuracy score : %s \"% acc)\n",
        "\n",
        "# Get the specificity\n",
        "tn, fp, fn, tp = confusion_matrix(test_y, pred_test).ravel()\n",
        "specificity = tn / (tn+fp)\n",
        "print(\"Specificity : %s \"% specificity)\n",
        "\n",
        "# Get the sensitivity\n",
        "sensitivity= tp / (tp+fn)\n",
        "print(\"Sensitivity: %s \"% sensitivity)"
      ],
      "metadata": {
        "colab": {
          "base_uri": "https://localhost:8080/"
        },
        "id": "euXRbuNK6ae5",
        "outputId": "6759cc1e-ae1d-4c17-c1c9-98899dff7efc"
      },
      "execution_count": null,
      "outputs": [
        {
          "output_type": "stream",
          "name": "stdout",
          "text": [
            "Model: \"sequential\"\n",
            "_________________________________________________________________\n",
            " Layer (type)                Output Shape              Param #   \n",
            "=================================================================\n",
            " gru (GRU)                   (None, 1, 12)             900       \n",
            "                                                                 \n",
            " layer_normalization (LayerN  (None, 1, 12)            24        \n",
            " ormalization)                                                   \n",
            "                                                                 \n",
            " leaky_re_lu (LeakyReLU)     (None, 1, 12)             0         \n",
            "                                                                 \n",
            " gru_1 (GRU)                 (None, 1, 10)             720       \n",
            "                                                                 \n",
            " layer_normalization_1 (Laye  (None, 1, 10)            20        \n",
            " rNormalization)                                                 \n",
            "                                                                 \n",
            " leaky_re_lu_1 (LeakyReLU)   (None, 1, 10)             0         \n",
            "                                                                 \n",
            " gru_2 (GRU)                 (None, 1, 7)              399       \n",
            "                                                                 \n",
            " layer_normalization_2 (Laye  (None, 1, 7)             14        \n",
            " rNormalization)                                                 \n",
            "                                                                 \n",
            " leaky_re_lu_2 (LeakyReLU)   (None, 1, 7)              0         \n",
            "                                                                 \n",
            " gru_3 (GRU)                 (None, 1, 5)              210       \n",
            "                                                                 \n",
            " layer_normalization_3 (Laye  (None, 1, 5)             10        \n",
            " rNormalization)                                                 \n",
            "                                                                 \n",
            " leaky_re_lu_3 (LeakyReLU)   (None, 1, 5)              0         \n",
            "                                                                 \n",
            " gru_4 (GRU)                 (None, 1, 4)              132       \n",
            "                                                                 \n",
            " layer_normalization_4 (Laye  (None, 1, 4)             8         \n",
            " rNormalization)                                                 \n",
            "                                                                 \n",
            " leaky_re_lu_4 (LeakyReLU)   (None, 1, 4)              0         \n",
            "                                                                 \n",
            " gru_5 (GRU)                 (None, 3)                 81        \n",
            "                                                                 \n",
            " layer_normalization_5 (Laye  (None, 3)                6         \n",
            " rNormalization)                                                 \n",
            "                                                                 \n",
            " leaky_re_lu_5 (LeakyReLU)   (None, 3)                 0         \n",
            "                                                                 \n",
            " dense (Dense)               (None, 2)                 8         \n",
            "                                                                 \n",
            "=================================================================\n",
            "Total params: 2,532\n",
            "Trainable params: 2,532\n",
            "Non-trainable params: 0\n",
            "_________________________________________________________________\n"
          ]
        },
        {
          "output_type": "stream",
          "name": "stderr",
          "text": [
            "/usr/local/lib/python3.7/dist-packages/ipykernel_launcher.py:7: DeprecationWarning: time.clock has been deprecated in Python 3.3 and will be removed from Python 3.8: use time.perf_counter or time.process_time instead\n",
            "  import sys\n",
            "/usr/local/lib/python3.7/dist-packages/ipykernel_launcher.py:9: DeprecationWarning: time.clock has been deprecated in Python 3.3 and will be removed from Python 3.8: use time.perf_counter or time.process_time instead\n",
            "  if __name__ == '__main__':\n"
          ]
        },
        {
          "output_type": "stream",
          "name": "stdout",
          "text": [
            "Time for prediction: 16.376044000000547 \n",
            "Test f1 score : 0.7099702256675042 \n",
            "Test ROC AUC Score : 0.7065099574237356 \n",
            "Test accuracy score : 0.7467433172676771 \n",
            "Specificity : 0.8273433529369055 \n",
            "Sensitivity: 0.5856765619105656 \n"
          ]
        }
      ]
    },
    {
      "cell_type": "markdown",
      "source": [
        "## Evaluation - Confusion Matrix"
      ],
      "metadata": {
        "id": "wxQ0XD9EkGJr"
      }
    },
    {
      "cell_type": "code",
      "source": [
        "\n",
        "# Confusion matrix\n",
        "confusion = confusion_matrix(test_y, pred_test)\n",
        "sns.heatmap(data=confusion, annot=True, xticklabels=[\"NotMI\", \"MI\"], yticklabels=[\"NotMI\", \"MI\"], fmt = \"d\", annot_kws={\"fontsize\":16})\n",
        "plt.ylabel('Actual')\n",
        "plt.xlabel('Predicted')\n",
        "plt.yticks(va=\"center\")\n",
        "plt.show()"
      ],
      "metadata": {
        "colab": {
          "base_uri": "https://localhost:8080/",
          "height": 279
        },
        "id": "CgtvVUDA6gGx",
        "outputId": "ae4ebff3-fdfe-4aa6-f303-b962acea6d9d"
      },
      "execution_count": null,
      "outputs": [
        {
          "output_type": "display_data",
          "data": {
            "text/plain": [
              "<Figure size 432x288 with 2 Axes>"
            ],
            "image/png": "[encoded data removed]"
          },
          "metadata": {
            "needs_background": "light"
          }
        }
      ]
    }
  ],
  "metadata": {
    "kernelspec": {
      "display_name": "Python 3",
      "language": "python",
      "name": "python3"
    },
    "language_info": {
      "codemirror_mode": {
        "name": "ipython",
        "version": 3
      },
      "file_extension": ".py",
      "mimetype": "text/x-python",
      "name": "python",
      "nbconvert_exporter": "python",
      "pygments_lexer": "ipython3",
      "version": "3.7.1"
    },
    "colab": {
      "name": "RNN",
      "provenance": [],
      "collapsed_sections": []
    }
  },
  "nbformat": 4,
  "nbformat_minor": 0
}