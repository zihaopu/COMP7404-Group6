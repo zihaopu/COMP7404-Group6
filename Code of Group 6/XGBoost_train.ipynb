{
 "cells": [
  {
   "cell_type": "markdown",
   "metadata": {},
   "source": [
    "# XGBoost Grid Search + Training"
   ]
  },
  {
   "cell_type": "markdown",
   "metadata": {},
   "source": [
    "From our paper on \"Explainable Prediction of Acute Myocardial Infarction using Machine Learning and Shapley Values\""
   ]
  },
  {
   "cell_type": "code",
   "execution_count": 1,
   "metadata": {},
   "outputs": [],
   "source": [
    "# Import libraries\n",
    "import pandas as pd\n",
    "import numpy as np\n",
    "# !pip install xgboost\n",
    "import xgboost\n",
    "import time\n",
    "import pickle\n",
    "from xgboost import XGBClassifier\n",
    "from sklearn.metrics import accuracy_score, f1_score, roc_auc_score\n",
    "from sklearn.model_selection import GridSearchCV\n",
    "from sklearn.model_selection import StratifiedKFold\n",
    "from sklearn.model_selection import cross_val_score\n",
    "from sklearn.metrics import classification_report\n",
    "from sklearn.metrics import confusion_matrix"
   ]
  },
  {
   "cell_type": "markdown",
   "metadata": {},
   "source": [
    "## Loading Data"
   ]
  },
  {
   "cell_type": "code",
   "execution_count": 2,
   "metadata": {},
   "outputs": [],
   "source": [
    "# Load data\n",
    "# Import train and test data into dataframes from csv files produced using the data processing code\n",
    "df_train = pd.read_csv(\"train.csv\", header=None)\n",
    "df_train = df_train.sample(frac=1)\n",
    "df_test = pd.read_csv(\"test.csv\", header=None)"
   ]
  },
  {
   "cell_type": "code",
   "execution_count": 3,
   "metadata": {},
   "outputs": [],
   "source": [
    "# Get data from dataframes\n",
    "train_y = np.array(df_train[11].values).astype(np.int8)\n",
    "train_x = np.array(df_train[list(range(11))].values)\n",
    "test_y = np.array(df_test[11].values).astype(np.int8)\n",
    "test_x = np.array(df_test[list(range(11))].values)"
   ]
  },
  {
   "cell_type": "code",
   "execution_count": 4,
   "metadata": {},
   "outputs": [
    {
     "data": {
      "text/plain": [
       "{0: 275553, 1: 137748}"
      ]
     },
     "execution_count": 4,
     "metadata": {},
     "output_type": "execute_result"
    }
   ],
   "source": [
    "# Check the MI distribution in the training set\n",
    "unique, counts = np.unique(train_y, return_counts=True)\n",
    "dict(zip(unique, counts))"
   ]
  },
  {
   "cell_type": "code",
   "execution_count": 5,
   "metadata": {},
   "outputs": [
    {
     "data": {
      "text/plain": [
       "{0: 68865, 1: 34461}"
      ]
     },
     "execution_count": 5,
     "metadata": {},
     "output_type": "execute_result"
    }
   ],
   "source": [
    "# Check the MI distribution in the testing set\n",
    "unique, counts = np.unique(test_y, return_counts=True)\n",
    "dict(zip(unique, counts))"
   ]
  },
  {
   "cell_type": "markdown",
   "metadata": {},
   "source": [
    "## Grid search for model optimization"
   ]
  },
  {
   "cell_type": "code",
   "execution_count": 8,
   "metadata": {},
   "outputs": [
    {
     "name": "stdout",
     "output_type": "stream",
     "text": [
      "{'mean_fit_time': array([  3.81230502,  17.64656587,  34.78991694,   3.93534751,\n",
      "        18.19835405,  34.41472707,   3.97846346,  17.3065372 ,\n",
      "        36.62668157,   1.11416049,   3.58786511,   6.5538332 ,\n",
      "         1.08523765,   3.42513351,   6.05989079,   1.07127919,\n",
      "         3.26071095,   6.10720263,   4.55516753,  52.07321897,\n",
      "       107.62512918,   4.532336  ,  44.13014774, 107.15109601,\n",
      "         4.87478499,  34.82766013, 105.33576269]), 'std_fit_time': array([1.83990431e-01, 2.93281273e-01, 5.53717809e-01, 5.13285522e-02,\n",
      "       4.01229314e-01, 8.66749380e-01, 6.17965833e-02, 2.11800998e-01,\n",
      "       9.30618414e-01, 2.59773304e-02, 7.48883704e-02, 9.73116038e-02,\n",
      "       4.40765446e-02, 2.88515801e-01, 5.80355354e-02, 2.00449781e-02,\n",
      "       6.31460499e-02, 1.02126040e-01, 1.64993306e-02, 3.28945629e+01,\n",
      "       3.29363494e+00, 1.25508262e-01, 1.68903778e+01, 1.87152630e+00,\n",
      "       2.85173732e-01, 9.98194392e-01, 1.85065396e+00]), 'mean_score_time': array([0.06700416, 0.10015106, 0.13389988, 0.0645927 , 0.10406184,\n",
      "       0.13417239, 0.06637974, 0.09109793, 0.1452919 , 0.11984305,\n",
      "       0.11351724, 0.11439013, 0.12274098, 0.1114481 , 0.11394973,\n",
      "       0.1123333 , 0.11758909, 0.11077533, 0.36265888, 1.73587337,\n",
      "       3.49384532, 0.35886369, 1.8660059 , 3.2271431 , 0.36711802,\n",
      "       1.64240518, 3.34720407]), 'std_score_time': array([0.00819799, 0.01071705, 0.00785846, 0.00584728, 0.01192382,\n",
      "       0.00565827, 0.00560781, 0.00630704, 0.00701599, 0.00642099,\n",
      "       0.00485021, 0.01748512, 0.00848892, 0.02255134, 0.00669725,\n",
      "       0.00580598, 0.00805421, 0.00135338, 0.0161538 , 0.03818257,\n",
      "       0.55301005, 0.02440272, 0.20821325, 0.08348583, 0.03375083,\n",
      "       0.08299155, 0.13450002]), 'param_booster': masked_array(data=['gbtree', 'gbtree', 'gbtree', 'gbtree', 'gbtree',\n",
      "                   'gbtree', 'gbtree', 'gbtree', 'gbtree', 'gblinear',\n",
      "                   'gblinear', 'gblinear', 'gblinear', 'gblinear',\n",
      "                   'gblinear', 'gblinear', 'gblinear', 'gblinear', 'dart',\n",
      "                   'dart', 'dart', 'dart', 'dart', 'dart', 'dart', 'dart',\n",
      "                   'dart'],\n",
      "             mask=[False, False, False, False, False, False, False, False,\n",
      "                   False, False, False, False, False, False, False, False,\n",
      "                   False, False, False, False, False, False, False, False,\n",
      "                   False, False, False],\n",
      "       fill_value='?',\n",
      "            dtype=object), 'param_learning_rate': masked_array(data=[0.01, 0.01, 0.01, 0.1, 0.1, 0.1, 1, 1, 1, 0.01, 0.01,\n",
      "                   0.01, 0.1, 0.1, 0.1, 1, 1, 1, 0.01, 0.01, 0.01, 0.1,\n",
      "                   0.1, 0.1, 1, 1, 1],\n",
      "             mask=[False, False, False, False, False, False, False, False,\n",
      "                   False, False, False, False, False, False, False, False,\n",
      "                   False, False, False, False, False, False, False, False,\n",
      "                   False, False, False],\n",
      "       fill_value='?',\n",
      "            dtype=object), 'param_n_estimators': masked_array(data=[10, 50, 100, 10, 50, 100, 10, 50, 100, 10, 50, 100, 10,\n",
      "                   50, 100, 10, 50, 100, 10, 50, 100, 10, 50, 100, 10, 50,\n",
      "                   100],\n",
      "             mask=[False, False, False, False, False, False, False, False,\n",
      "                   False, False, False, False, False, False, False, False,\n",
      "                   False, False, False, False, False, False, False, False,\n",
      "                   False, False, False],\n",
      "       fill_value='?',\n",
      "            dtype=object), 'params': [{'booster': 'gbtree', 'learning_rate': 0.01, 'n_estimators': 10}, {'booster': 'gbtree', 'learning_rate': 0.01, 'n_estimators': 50}, {'booster': 'gbtree', 'learning_rate': 0.01, 'n_estimators': 100}, {'booster': 'gbtree', 'learning_rate': 0.1, 'n_estimators': 10}, {'booster': 'gbtree', 'learning_rate': 0.1, 'n_estimators': 50}, {'booster': 'gbtree', 'learning_rate': 0.1, 'n_estimators': 100}, {'booster': 'gbtree', 'learning_rate': 1, 'n_estimators': 10}, {'booster': 'gbtree', 'learning_rate': 1, 'n_estimators': 50}, {'booster': 'gbtree', 'learning_rate': 1, 'n_estimators': 100}, {'booster': 'gblinear', 'learning_rate': 0.01, 'n_estimators': 10}, {'booster': 'gblinear', 'learning_rate': 0.01, 'n_estimators': 50}, {'booster': 'gblinear', 'learning_rate': 0.01, 'n_estimators': 100}, {'booster': 'gblinear', 'learning_rate': 0.1, 'n_estimators': 10}, {'booster': 'gblinear', 'learning_rate': 0.1, 'n_estimators': 50}, {'booster': 'gblinear', 'learning_rate': 0.1, 'n_estimators': 100}, {'booster': 'gblinear', 'learning_rate': 1, 'n_estimators': 10}, {'booster': 'gblinear', 'learning_rate': 1, 'n_estimators': 50}, {'booster': 'gblinear', 'learning_rate': 1, 'n_estimators': 100}, {'booster': 'dart', 'learning_rate': 0.01, 'n_estimators': 10}, {'booster': 'dart', 'learning_rate': 0.01, 'n_estimators': 50}, {'booster': 'dart', 'learning_rate': 0.01, 'n_estimators': 100}, {'booster': 'dart', 'learning_rate': 0.1, 'n_estimators': 10}, {'booster': 'dart', 'learning_rate': 0.1, 'n_estimators': 50}, {'booster': 'dart', 'learning_rate': 0.1, 'n_estimators': 100}, {'booster': 'dart', 'learning_rate': 1, 'n_estimators': 10}, {'booster': 'dart', 'learning_rate': 1, 'n_estimators': 50}, {'booster': 'dart', 'learning_rate': 1, 'n_estimators': 100}], 'split0_test_score': array([0.74326466, 0.82731881, 0.84246501, 0.84752181, 0.90378776,\n",
      "       0.92763214, 0.92250275, 0.94910538, 0.94978285, 0.68733744,\n",
      "       0.68760359, 0.68747051, 0.68772456, 0.6920797 , 0.69203131,\n",
      "       0.69153531, 0.69193453, 0.69226116, 0.74326466, 0.82731881,\n",
      "       0.84246501, 0.84752181, 0.90378776, 0.92763214, 0.92250275,\n",
      "       0.94910538, 0.94978285]), 'split1_test_score': array([0.75773046, 0.826857  , 0.84761674, 0.84542705, 0.90509315,\n",
      "       0.92413501, 0.90942415, 0.94718122, 0.94777401, 0.68994677,\n",
      "       0.69045488, 0.69072103, 0.69046697, 0.69389064, 0.69363658,\n",
      "       0.69395113, 0.69373337, 0.69399952, 0.75773046, 0.826857  ,\n",
      "       0.84761674, 0.84542705, 0.90509315, 0.92413501, 0.90942415,\n",
      "       0.94718122, 0.94777401]), 'split2_test_score': array([0.74870554, 0.82627631, 0.84749577, 0.85174208, 0.90145173,\n",
      "       0.92872006, 0.909654  , 0.9484031 , 0.94910477, 0.68896685,\n",
      "       0.68907573, 0.68890636, 0.68906363, 0.69347931, 0.69369707,\n",
      "       0.69381805, 0.69381805, 0.69427776, 0.74870554, 0.82627631,\n",
      "       0.84749577, 0.85174208, 0.90145173, 0.92872006, 0.909654  ,\n",
      "       0.9484031 , 0.94910477]), 'split3_test_score': array([0.74765304, 0.82724413, 0.8462255 , 0.8381926 , 0.90361723,\n",
      "       0.92662715, 0.91375514, 0.94820953, 0.94935882, 0.68781757,\n",
      "       0.68814421, 0.68911203, 0.68877329, 0.69282603, 0.69335834,\n",
      "       0.69320106, 0.69308009, 0.69306799, 0.74765304, 0.82724413,\n",
      "       0.8462255 , 0.8381926 , 0.90361723, 0.92662715, 0.91375514,\n",
      "       0.94820953, 0.94935882]), 'split4_test_score': array([0.7548149 , 0.8290225 , 0.84396322, 0.84241471, 0.89970965,\n",
      "       0.92072345, 0.92218727, 0.94718122, 0.94749577, 0.68808372,\n",
      "       0.68885797, 0.68960803, 0.68997097, 0.69505202, 0.69479797,\n",
      "       0.69479797, 0.69505202, 0.6946165 , 0.7548149 , 0.8290225 ,\n",
      "       0.84396322, 0.84241471, 0.89970965, 0.92072345, 0.92218727,\n",
      "       0.94718122, 0.94749577]), 'mean_test_score': array([0.75043372, 0.82734375, 0.84555325, 0.84505965, 0.9027319 ,\n",
      "       0.92556756, 0.91550466, 0.94801609, 0.94870324, 0.68843047,\n",
      "       0.68882727, 0.68916359, 0.68919988, 0.69346554, 0.69350425,\n",
      "       0.6934607 , 0.69352361, 0.69364459, 0.75043372, 0.82734375,\n",
      "       0.84555325, 0.84505965, 0.9027319 , 0.92556756, 0.91550466,\n",
      "       0.94801609, 0.94870324]), 'std_test_score': array([0.00518751, 0.00091707, 0.00202725, 0.00458267, 0.00191034,\n",
      "       0.00285801, 0.00579473, 0.00074401, 0.00090311, 0.00092493,\n",
      "       0.00096703, 0.00105437, 0.00095679, 0.00100273, 0.00088535,\n",
      "       0.00108913, 0.00101869, 0.0008623 , 0.00518751, 0.00091707,\n",
      "       0.00202725, 0.00458267, 0.00191034, 0.00285801, 0.00579473,\n",
      "       0.00074401, 0.00090311]), 'rank_test_score': array([17, 15, 11, 13,  9,  5,  7,  3,  1, 27, 26, 25, 24, 22, 21, 23, 20,\n",
      "       19, 17, 15, 11, 13,  9,  5,  7,  3,  1])}\n"
     ]
    }
   ],
   "source": [
    "# Grid Search to optimize the model \n",
    "parameters = {'booster':('gbtree', 'gblinear', 'dart'), 'learning_rate':[0.01, 0.1, 1], 'n_estimators':[10,50,100]}\n",
    "\n",
    "XGB = XGBClassifier(random_state=0)\n",
    "clf = GridSearchCV(XGB, parameters)\n",
    "clf.fit(train_x, train_y)\n",
    "sorted(clf.cv_results_.keys())\n",
    "print(clf.cv_results_)"
   ]
  },
  {
   "cell_type": "code",
   "execution_count": 8,
   "metadata": {},
   "outputs": [
    {
     "data": {
      "text/html": [
       "<style>#sk-container-id-1 {color: black;background-color: white;}#sk-container-id-1 pre{padding: 0;}#sk-container-id-1 div.sk-toggleable {background-color: white;}#sk-container-id-1 label.sk-toggleable__label {cursor: pointer;display: block;width: 100%;margin-bottom: 0;padding: 0.3em;box-sizing: border-box;text-align: center;}#sk-container-id-1 label.sk-toggleable__label-arrow:before {content: \"▸\";float: left;margin-right: 0.25em;color: #696969;}#sk-container-id-1 label.sk-toggleable__label-arrow:hover:before {color: black;}#sk-container-id-1 div.sk-estimator:hover label.sk-toggleable__label-arrow:before {color: black;}#sk-container-id-1 div.sk-toggleable__content {max-height: 0;max-width: 0;overflow: hidden;text-align: left;background-color: #f0f8ff;}#sk-container-id-1 div.sk-toggleable__content pre {margin: 0.2em;color: black;border-radius: 0.25em;background-color: #f0f8ff;}#sk-container-id-1 input.sk-toggleable__control:checked~div.sk-toggleable__content {max-height: 200px;max-width: 100%;overflow: auto;}#sk-container-id-1 input.sk-toggleable__control:checked~label.sk-toggleable__label-arrow:before {content: \"▾\";}#sk-container-id-1 div.sk-estimator input.sk-toggleable__control:checked~label.sk-toggleable__label {background-color: #d4ebff;}#sk-container-id-1 div.sk-label input.sk-toggleable__control:checked~label.sk-toggleable__label {background-color: #d4ebff;}#sk-container-id-1 input.sk-hidden--visually {border: 0;clip: rect(1px 1px 1px 1px);clip: rect(1px, 1px, 1px, 1px);height: 1px;margin: -1px;overflow: hidden;padding: 0;position: absolute;width: 1px;}#sk-container-id-1 div.sk-estimator {font-family: monospace;background-color: #f0f8ff;border: 1px dotted black;border-radius: 0.25em;box-sizing: border-box;margin-bottom: 0.5em;}#sk-container-id-1 div.sk-estimator:hover {background-color: #d4ebff;}#sk-container-id-1 div.sk-parallel-item::after {content: \"\";width: 100%;border-bottom: 1px solid gray;flex-grow: 1;}#sk-container-id-1 div.sk-label:hover label.sk-toggleable__label {background-color: #d4ebff;}#sk-container-id-1 div.sk-serial::before {content: \"\";position: absolute;border-left: 1px solid gray;box-sizing: border-box;top: 0;bottom: 0;left: 50%;z-index: 0;}#sk-container-id-1 div.sk-serial {display: flex;flex-direction: column;align-items: center;background-color: white;padding-right: 0.2em;padding-left: 0.2em;position: relative;}#sk-container-id-1 div.sk-item {position: relative;z-index: 1;}#sk-container-id-1 div.sk-parallel {display: flex;align-items: stretch;justify-content: center;background-color: white;position: relative;}#sk-container-id-1 div.sk-item::before, #sk-container-id-1 div.sk-parallel-item::before {content: \"\";position: absolute;border-left: 1px solid gray;box-sizing: border-box;top: 0;bottom: 0;left: 50%;z-index: -1;}#sk-container-id-1 div.sk-parallel-item {display: flex;flex-direction: column;z-index: 1;position: relative;background-color: white;}#sk-container-id-1 div.sk-parallel-item:first-child::after {align-self: flex-end;width: 50%;}#sk-container-id-1 div.sk-parallel-item:last-child::after {align-self: flex-start;width: 50%;}#sk-container-id-1 div.sk-parallel-item:only-child::after {width: 0;}#sk-container-id-1 div.sk-dashed-wrapped {border: 1px dashed gray;margin: 0 0.4em 0.5em 0.4em;box-sizing: border-box;padding-bottom: 0.4em;background-color: white;}#sk-container-id-1 div.sk-label label {font-family: monospace;font-weight: bold;display: inline-block;line-height: 1.2em;}#sk-container-id-1 div.sk-label-container {text-align: center;}#sk-container-id-1 div.sk-container {/* jupyter's `normalize.less` sets `[hidden] { display: none; }` but bootstrap.min.css set `[hidden] { display: none !important; }` so we also need the `!important` here to be able to override the default hidden behavior on the sphinx rendered scikit-learn.org. See: https://github.com/scikit-learn/scikit-learn/issues/21755 */display: inline-block !important;position: relative;}#sk-container-id-1 div.sk-text-repr-fallback {display: none;}</style><div id=\"sk-container-id-1\" class=\"sk-top-container\"><div class=\"sk-text-repr-fallback\"><pre>XGBClassifier(base_score=0.5, booster=&#x27;gbtree&#x27;, callbacks=None,\n",
       "              colsample_bylevel=1, colsample_bynode=1, colsample_bytree=1,\n",
       "              early_stopping_rounds=None, enable_categorical=False,\n",
       "              eval_metric=None, gamma=0, gpu_id=-1, grow_policy=&#x27;depthwise&#x27;,\n",
       "              importance_type=None, interaction_constraints=&#x27;&#x27;, learning_rate=1,\n",
       "              max_bin=256, max_cat_to_onehot=4, max_delta_step=0, max_depth=6,\n",
       "              max_leaves=0, min_child_weight=1, missing=nan,\n",
       "              monotone_constraints=&#x27;()&#x27;, n_estimators=100, n_jobs=0,\n",
       "              num_parallel_tree=1, predictor=&#x27;auto&#x27;, random_state=0,\n",
       "              reg_alpha=0, reg_lambda=1, ...)</pre><b>In a Jupyter environment, please rerun this cell to show the HTML representation or trust the notebook. <br />On GitHub, the HTML representation is unable to render, please try loading this page with nbviewer.org.</b></div><div class=\"sk-container\" hidden><div class=\"sk-item\"><div class=\"sk-estimator sk-toggleable\"><input class=\"sk-toggleable__control sk-hidden--visually\" id=\"sk-estimator-id-1\" type=\"checkbox\" checked><label for=\"sk-estimator-id-1\" class=\"sk-toggleable__label sk-toggleable__label-arrow\">XGBClassifier</label><div class=\"sk-toggleable__content\"><pre>XGBClassifier(base_score=0.5, booster=&#x27;gbtree&#x27;, callbacks=None,\n",
       "              colsample_bylevel=1, colsample_bynode=1, colsample_bytree=1,\n",
       "              early_stopping_rounds=None, enable_categorical=False,\n",
       "              eval_metric=None, gamma=0, gpu_id=-1, grow_policy=&#x27;depthwise&#x27;,\n",
       "              importance_type=None, interaction_constraints=&#x27;&#x27;, learning_rate=1,\n",
       "              max_bin=256, max_cat_to_onehot=4, max_delta_step=0, max_depth=6,\n",
       "              max_leaves=0, min_child_weight=1, missing=nan,\n",
       "              monotone_constraints=&#x27;()&#x27;, n_estimators=100, n_jobs=0,\n",
       "              num_parallel_tree=1, predictor=&#x27;auto&#x27;, random_state=0,\n",
       "              reg_alpha=0, reg_lambda=1, ...)</pre></div></div></div></div></div>"
      ],
      "text/plain": [
       "XGBClassifier(base_score=0.5, booster='gbtree', callbacks=None,\n",
       "              colsample_bylevel=1, colsample_bynode=1, colsample_bytree=1,\n",
       "              early_stopping_rounds=None, enable_categorical=False,\n",
       "              eval_metric=None, gamma=0, gpu_id=-1, grow_policy='depthwise',\n",
       "              importance_type=None, interaction_constraints='', learning_rate=1,\n",
       "              max_bin=256, max_cat_to_onehot=4, max_delta_step=0, max_depth=6,\n",
       "              max_leaves=0, min_child_weight=1, missing=nan,\n",
       "              monotone_constraints='()', n_estimators=100, n_jobs=0,\n",
       "              num_parallel_tree=1, predictor='auto', random_state=0,\n",
       "              reg_alpha=0, reg_lambda=1, ...)"
      ]
     },
     "execution_count": 8,
     "metadata": {},
     "output_type": "execute_result"
    }
   ],
   "source": [
    "# Obtain the parameters for the best model \n",
    "clf.best_estimator_"
   ]
  },
  {
   "cell_type": "markdown",
   "metadata": {},
   "source": [
    "## Model Training "
   ]
  },
  {
   "cell_type": "code",
   "execution_count": 9,
   "metadata": {},
   "outputs": [
    {
     "data": {
      "text/html": [
       "<style>#sk-container-id-2 {color: black;background-color: white;}#sk-container-id-2 pre{padding: 0;}#sk-container-id-2 div.sk-toggleable {background-color: white;}#sk-container-id-2 label.sk-toggleable__label {cursor: pointer;display: block;width: 100%;margin-bottom: 0;padding: 0.3em;box-sizing: border-box;text-align: center;}#sk-container-id-2 label.sk-toggleable__label-arrow:before {content: \"▸\";float: left;margin-right: 0.25em;color: #696969;}#sk-container-id-2 label.sk-toggleable__label-arrow:hover:before {color: black;}#sk-container-id-2 div.sk-estimator:hover label.sk-toggleable__label-arrow:before {color: black;}#sk-container-id-2 div.sk-toggleable__content {max-height: 0;max-width: 0;overflow: hidden;text-align: left;background-color: #f0f8ff;}#sk-container-id-2 div.sk-toggleable__content pre {margin: 0.2em;color: black;border-radius: 0.25em;background-color: #f0f8ff;}#sk-container-id-2 input.sk-toggleable__control:checked~div.sk-toggleable__content {max-height: 200px;max-width: 100%;overflow: auto;}#sk-container-id-2 input.sk-toggleable__control:checked~label.sk-toggleable__label-arrow:before {content: \"▾\";}#sk-container-id-2 div.sk-estimator input.sk-toggleable__control:checked~label.sk-toggleable__label {background-color: #d4ebff;}#sk-container-id-2 div.sk-label input.sk-toggleable__control:checked~label.sk-toggleable__label {background-color: #d4ebff;}#sk-container-id-2 input.sk-hidden--visually {border: 0;clip: rect(1px 1px 1px 1px);clip: rect(1px, 1px, 1px, 1px);height: 1px;margin: -1px;overflow: hidden;padding: 0;position: absolute;width: 1px;}#sk-container-id-2 div.sk-estimator {font-family: monospace;background-color: #f0f8ff;border: 1px dotted black;border-radius: 0.25em;box-sizing: border-box;margin-bottom: 0.5em;}#sk-container-id-2 div.sk-estimator:hover {background-color: #d4ebff;}#sk-container-id-2 div.sk-parallel-item::after {content: \"\";width: 100%;border-bottom: 1px solid gray;flex-grow: 1;}#sk-container-id-2 div.sk-label:hover label.sk-toggleable__label {background-color: #d4ebff;}#sk-container-id-2 div.sk-serial::before {content: \"\";position: absolute;border-left: 1px solid gray;box-sizing: border-box;top: 0;bottom: 0;left: 50%;z-index: 0;}#sk-container-id-2 div.sk-serial {display: flex;flex-direction: column;align-items: center;background-color: white;padding-right: 0.2em;padding-left: 0.2em;position: relative;}#sk-container-id-2 div.sk-item {position: relative;z-index: 1;}#sk-container-id-2 div.sk-parallel {display: flex;align-items: stretch;justify-content: center;background-color: white;position: relative;}#sk-container-id-2 div.sk-item::before, #sk-container-id-2 div.sk-parallel-item::before {content: \"\";position: absolute;border-left: 1px solid gray;box-sizing: border-box;top: 0;bottom: 0;left: 50%;z-index: -1;}#sk-container-id-2 div.sk-parallel-item {display: flex;flex-direction: column;z-index: 1;position: relative;background-color: white;}#sk-container-id-2 div.sk-parallel-item:first-child::after {align-self: flex-end;width: 50%;}#sk-container-id-2 div.sk-parallel-item:last-child::after {align-self: flex-start;width: 50%;}#sk-container-id-2 div.sk-parallel-item:only-child::after {width: 0;}#sk-container-id-2 div.sk-dashed-wrapped {border: 1px dashed gray;margin: 0 0.4em 0.5em 0.4em;box-sizing: border-box;padding-bottom: 0.4em;background-color: white;}#sk-container-id-2 div.sk-label label {font-family: monospace;font-weight: bold;display: inline-block;line-height: 1.2em;}#sk-container-id-2 div.sk-label-container {text-align: center;}#sk-container-id-2 div.sk-container {/* jupyter's `normalize.less` sets `[hidden] { display: none; }` but bootstrap.min.css set `[hidden] { display: none !important; }` so we also need the `!important` here to be able to override the default hidden behavior on the sphinx rendered scikit-learn.org. See: https://github.com/scikit-learn/scikit-learn/issues/21755 */display: inline-block !important;position: relative;}#sk-container-id-2 div.sk-text-repr-fallback {display: none;}</style><div id=\"sk-container-id-2\" class=\"sk-top-container\"><div class=\"sk-text-repr-fallback\"><pre>XGBClassifier(base_score=0.5, booster=&#x27;gbtree&#x27;, callbacks=None,\n",
       "              colsample_bylevel=1, colsample_bynode=1, colsample_bytree=1,\n",
       "              early_stopping_rounds=None, enable_categorical=False,\n",
       "              eval_metric=None, gamma=0, gpu_id=-1, grow_policy=&#x27;depthwise&#x27;,\n",
       "              importance_type=None, interaction_constraints=&#x27;&#x27;, learning_rate=1,\n",
       "              max_bin=256, max_cat_to_onehot=4, max_delta_step=0, max_depth=6,\n",
       "              max_leaves=0, min_child_weight=1, missing=nan,\n",
       "              monotone_constraints=&#x27;()&#x27;, n_estimators=100, n_jobs=0,\n",
       "              num_parallel_tree=1, predictor=&#x27;auto&#x27;, random_state=0,\n",
       "              reg_alpha=0, reg_lambda=1, ...)</pre><b>In a Jupyter environment, please rerun this cell to show the HTML representation or trust the notebook. <br />On GitHub, the HTML representation is unable to render, please try loading this page with nbviewer.org.</b></div><div class=\"sk-container\" hidden><div class=\"sk-item\"><div class=\"sk-estimator sk-toggleable\"><input class=\"sk-toggleable__control sk-hidden--visually\" id=\"sk-estimator-id-2\" type=\"checkbox\" checked><label for=\"sk-estimator-id-2\" class=\"sk-toggleable__label sk-toggleable__label-arrow\">XGBClassifier</label><div class=\"sk-toggleable__content\"><pre>XGBClassifier(base_score=0.5, booster=&#x27;gbtree&#x27;, callbacks=None,\n",
       "              colsample_bylevel=1, colsample_bynode=1, colsample_bytree=1,\n",
       "              early_stopping_rounds=None, enable_categorical=False,\n",
       "              eval_metric=None, gamma=0, gpu_id=-1, grow_policy=&#x27;depthwise&#x27;,\n",
       "              importance_type=None, interaction_constraints=&#x27;&#x27;, learning_rate=1,\n",
       "              max_bin=256, max_cat_to_onehot=4, max_delta_step=0, max_depth=6,\n",
       "              max_leaves=0, min_child_weight=1, missing=nan,\n",
       "              monotone_constraints=&#x27;()&#x27;, n_estimators=100, n_jobs=0,\n",
       "              num_parallel_tree=1, predictor=&#x27;auto&#x27;, random_state=0,\n",
       "              reg_alpha=0, reg_lambda=1, ...)</pre></div></div></div></div></div>"
      ],
      "text/plain": [
       "XGBClassifier(base_score=0.5, booster='gbtree', callbacks=None,\n",
       "              colsample_bylevel=1, colsample_bynode=1, colsample_bytree=1,\n",
       "              early_stopping_rounds=None, enable_categorical=False,\n",
       "              eval_metric=None, gamma=0, gpu_id=-1, grow_policy='depthwise',\n",
       "              importance_type=None, interaction_constraints='', learning_rate=1,\n",
       "              max_bin=256, max_cat_to_onehot=4, max_delta_step=0, max_depth=6,\n",
       "              max_leaves=0, min_child_weight=1, missing=nan,\n",
       "              monotone_constraints='()', n_estimators=100, n_jobs=0,\n",
       "              num_parallel_tree=1, predictor='auto', random_state=0,\n",
       "              reg_alpha=0, reg_lambda=1, ...)"
      ]
     },
     "execution_count": 9,
     "metadata": {},
     "output_type": "execute_result"
    }
   ],
   "source": [
    "# Train the XGBoost model with the optimal parameters \n",
    "model = XGBClassifier(learning_rate = 1)\n",
    "model.fit(train_x, train_y)"
   ]
  },
  {
   "cell_type": "code",
   "execution_count": 10,
   "metadata": {},
   "outputs": [],
   "source": [
    "# Save model to file\n",
    "pickle.dump(model, open(\"xgboost_ecgview.model\", \"wb\"))"
   ]
  }
 ],
 "metadata": {
  "kernelspec": {
   "display_name": "Python 3 (ipykernel)",
   "language": "python",
   "name": "python3"
  },
  "language_info": {
   "codemirror_mode": {
    "name": "ipython",
    "version": 3
   },
   "file_extension": ".py",
   "mimetype": "text/x-python",
   "name": "python",
   "nbconvert_exporter": "python",
   "pygments_lexer": "ipython3",
   "version": "3.10.4"
  }
 },
 "nbformat": 4,
 "nbformat_minor": 4
}
