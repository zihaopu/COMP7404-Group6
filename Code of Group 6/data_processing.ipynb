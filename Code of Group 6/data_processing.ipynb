{
 "cells": [
  {
   "cell_type": "markdown",
   "metadata": {},
   "source": [
    "# ECG-ViEW II Data Processing"
   ]
  },
  {
   "cell_type": "markdown",
   "metadata": {},
   "source": [
    "From our paper on \"Explainable Prediction of Acute Myocardial Infarction using Machine Learning and Shapley Values\""
   ]
  },
  {
   "cell_type": "code",
   "execution_count": 1,
   "metadata": {},
   "outputs": [],
   "source": [
    "# Import libraries\n",
    "import pandas as pd\n",
    "import numpy as np\n",
    "import pylab as plt\n",
    "import imblearn\n",
    "from imblearn.under_sampling import RandomUnderSampler\n",
    "from imblearn.over_sampling import SMOTE\n",
    "from imblearn.pipeline import Pipeline\n",
    "import seaborn as sns\n",
    "from sklearn import metrics\n",
    "from sklearn.model_selection import train_test_split\n",
    "from sklearn.preprocessing import RobustScaler\n",
    "\n",
    "# Set the global default size of matplotlib figures\n",
    "plt.rc('figure', figsize=(10, 5))\n",
    "\n",
    "# Size of matplotlib histogram bins\n",
    "bin_size = 40"
   ]
  },
  {
   "cell_type": "markdown",
   "metadata": {},
   "source": [
    "## 1. ECG Data Processing"
   ]
  },
  {
   "cell_type": "code",
   "execution_count": 2,
   "metadata": {
    "scrolled": true
   },
   "outputs": [
    {
     "data": {
      "text/html": [
       "<div>\n",
       "<style scoped>\n",
       "    .dataframe tbody tr th:only-of-type {\n",
       "        vertical-align: middle;\n",
       "    }\n",
       "\n",
       "    .dataframe tbody tr th {\n",
       "        vertical-align: top;\n",
       "    }\n",
       "\n",
       "    .dataframe thead th {\n",
       "        text-align: right;\n",
       "    }\n",
       "</style>\n",
       "<table border=\"1\" class=\"dataframe\">\n",
       "  <thead>\n",
       "    <tr style=\"text-align: right;\">\n",
       "      <th></th>\n",
       "      <th>personid</th>\n",
       "      <th>ecgdate</th>\n",
       "      <th>ecgdept</th>\n",
       "      <th>ecgsource</th>\n",
       "      <th>RR</th>\n",
       "      <th>PR</th>\n",
       "      <th>QRS</th>\n",
       "      <th>QT</th>\n",
       "      <th>QTc</th>\n",
       "      <th>P_wave_axis</th>\n",
       "      <th>QRS_axis</th>\n",
       "      <th>T_wave_axis</th>\n",
       "      <th>ACCI</th>\n",
       "    </tr>\n",
       "  </thead>\n",
       "  <tbody>\n",
       "    <tr>\n",
       "      <th>0</th>\n",
       "      <td>120971</td>\n",
       "      <td>2006-05-23 09:57:00</td>\n",
       "      <td>H</td>\n",
       "      <td>M</td>\n",
       "      <td>952.0</td>\n",
       "      <td>NaN</td>\n",
       "      <td>NaN</td>\n",
       "      <td>388</td>\n",
       "      <td>397</td>\n",
       "      <td>NaN</td>\n",
       "      <td>NaN</td>\n",
       "      <td>NaN</td>\n",
       "      <td>9</td>\n",
       "    </tr>\n",
       "    <tr>\n",
       "      <th>1</th>\n",
       "      <td>120971</td>\n",
       "      <td>2012-04-19 08:09:06</td>\n",
       "      <td>H</td>\n",
       "      <td>E</td>\n",
       "      <td>750.0</td>\n",
       "      <td>140.0</td>\n",
       "      <td>84.0</td>\n",
       "      <td>360</td>\n",
       "      <td>415</td>\n",
       "      <td>NaN</td>\n",
       "      <td>NaN</td>\n",
       "      <td>NaN</td>\n",
       "      <td>9</td>\n",
       "    </tr>\n",
       "    <tr>\n",
       "      <th>2</th>\n",
       "      <td>270</td>\n",
       "      <td>2004-07-03 09:05:13</td>\n",
       "      <td>O</td>\n",
       "      <td>M</td>\n",
       "      <td>600.0</td>\n",
       "      <td>122.0</td>\n",
       "      <td>78.0</td>\n",
       "      <td>318</td>\n",
       "      <td>410</td>\n",
       "      <td>62.0</td>\n",
       "      <td>86.0</td>\n",
       "      <td>61.0</td>\n",
       "      <td>7</td>\n",
       "    </tr>\n",
       "    <tr>\n",
       "      <th>3</th>\n",
       "      <td>306709</td>\n",
       "      <td>2013-04-06 22:10:16</td>\n",
       "      <td>E</td>\n",
       "      <td>M</td>\n",
       "      <td>577.0</td>\n",
       "      <td>150.0</td>\n",
       "      <td>92.0</td>\n",
       "      <td>362</td>\n",
       "      <td>476</td>\n",
       "      <td>17.0</td>\n",
       "      <td>46.0</td>\n",
       "      <td>70.0</td>\n",
       "      <td>12</td>\n",
       "    </tr>\n",
       "    <tr>\n",
       "      <th>4</th>\n",
       "      <td>87768</td>\n",
       "      <td>1997-12-17 11:11:26</td>\n",
       "      <td>O</td>\n",
       "      <td>M</td>\n",
       "      <td>698.0</td>\n",
       "      <td>136.0</td>\n",
       "      <td>88.0</td>\n",
       "      <td>354</td>\n",
       "      <td>423</td>\n",
       "      <td>28.0</td>\n",
       "      <td>59.0</td>\n",
       "      <td>29.0</td>\n",
       "      <td>3</td>\n",
       "    </tr>\n",
       "  </tbody>\n",
       "</table>\n",
       "</div>"
      ],
      "text/plain": [
       "   personid              ecgdate ecgdept ecgsource     RR     PR   QRS   QT  \\\n",
       "0    120971  2006-05-23 09:57:00       H         M  952.0    NaN   NaN  388   \n",
       "1    120971  2012-04-19 08:09:06       H         E  750.0  140.0  84.0  360   \n",
       "2       270  2004-07-03 09:05:13       O         M  600.0  122.0  78.0  318   \n",
       "3    306709  2013-04-06 22:10:16       E         M  577.0  150.0  92.0  362   \n",
       "4     87768  1997-12-17 11:11:26       O         M  698.0  136.0  88.0  354   \n",
       "\n",
       "   QTc  P_wave_axis  QRS_axis  T_wave_axis  ACCI  \n",
       "0  397          NaN       NaN          NaN     9  \n",
       "1  415          NaN       NaN          NaN     9  \n",
       "2  410         62.0      86.0         61.0     7  \n",
       "3  476         17.0      46.0         70.0    12  \n",
       "4  423         28.0      59.0         29.0     3  "
      ]
     },
     "execution_count": 2,
     "metadata": {},
     "output_type": "execute_result"
    }
   ],
   "source": [
    "df_ECG = pd.read_csv('Electrocardiogram.csv')\n",
    "df_ECG.head()"
   ]
  },
  {
   "cell_type": "code",
   "execution_count": 3,
   "metadata": {},
   "outputs": [
    {
     "data": {
      "text/plain": [
       "(979273, 13)"
      ]
     },
     "execution_count": 3,
     "metadata": {},
     "output_type": "execute_result"
    }
   ],
   "source": [
    "df_ECG.shape"
   ]
  },
  {
   "cell_type": "code",
   "execution_count": 4,
   "metadata": {},
   "outputs": [
    {
     "name": "stdout",
     "output_type": "stream",
     "text": [
      "<class 'pandas.core.frame.DataFrame'>\n",
      "RangeIndex: 979273 entries, 0 to 979272\n",
      "Data columns (total 13 columns):\n",
      " #   Column       Non-Null Count   Dtype  \n",
      "---  ------       --------------   -----  \n",
      " 0   personid     979273 non-null  int64  \n",
      " 1   ecgdate      979273 non-null  object \n",
      " 2   ecgdept      979273 non-null  object \n",
      " 3   ecgsource    979273 non-null  object \n",
      " 4   RR           979239 non-null  float64\n",
      " 5   PR           774260 non-null  float64\n",
      " 6   QRS          810373 non-null  float64\n",
      " 7   QT           979273 non-null  int64  \n",
      " 8   QTc          979273 non-null  int64  \n",
      " 9   P_wave_axis  732827 non-null  float64\n",
      " 10  QRS_axis     762274 non-null  float64\n",
      " 11  T_wave_axis  762248 non-null  float64\n",
      " 12  ACCI         979273 non-null  int64  \n",
      "dtypes: float64(6), int64(4), object(3)\n",
      "memory usage: 97.1+ MB\n"
     ]
    }
   ],
   "source": [
    "df_ECG.info()"
   ]
  },
  {
   "cell_type": "code",
   "execution_count": 5,
   "metadata": {},
   "outputs": [
    {
     "data": {
      "text/html": [
       "<div>\n",
       "<style scoped>\n",
       "    .dataframe tbody tr th:only-of-type {\n",
       "        vertical-align: middle;\n",
       "    }\n",
       "\n",
       "    .dataframe tbody tr th {\n",
       "        vertical-align: top;\n",
       "    }\n",
       "\n",
       "    .dataframe thead th {\n",
       "        text-align: right;\n",
       "    }\n",
       "</style>\n",
       "<table border=\"1\" class=\"dataframe\">\n",
       "  <thead>\n",
       "    <tr style=\"text-align: right;\">\n",
       "      <th></th>\n",
       "      <th>personid</th>\n",
       "      <th>RR</th>\n",
       "      <th>PR</th>\n",
       "      <th>QRS</th>\n",
       "      <th>QT</th>\n",
       "      <th>QTc</th>\n",
       "      <th>P_wave_axis</th>\n",
       "      <th>QRS_axis</th>\n",
       "      <th>T_wave_axis</th>\n",
       "      <th>ACCI</th>\n",
       "    </tr>\n",
       "  </thead>\n",
       "  <tbody>\n",
       "    <tr>\n",
       "      <th>count</th>\n",
       "      <td>979273.000000</td>\n",
       "      <td>979239.000000</td>\n",
       "      <td>774260.000000</td>\n",
       "      <td>810373.000000</td>\n",
       "      <td>979273.000000</td>\n",
       "      <td>979273.000000</td>\n",
       "      <td>732827.000000</td>\n",
       "      <td>762274.000000</td>\n",
       "      <td>762248.000000</td>\n",
       "      <td>979273.000000</td>\n",
       "    </tr>\n",
       "    <tr>\n",
       "      <th>mean</th>\n",
       "      <td>231021.688946</td>\n",
       "      <td>851.683240</td>\n",
       "      <td>157.081364</td>\n",
       "      <td>91.061474</td>\n",
       "      <td>389.997336</td>\n",
       "      <td>425.415081</td>\n",
       "      <td>48.357848</td>\n",
       "      <td>45.215670</td>\n",
       "      <td>46.198097</td>\n",
       "      <td>7.580933</td>\n",
       "    </tr>\n",
       "    <tr>\n",
       "      <th>std</th>\n",
       "      <td>133238.981417</td>\n",
       "      <td>196.989159</td>\n",
       "      <td>26.661289</td>\n",
       "      <td>15.149489</td>\n",
       "      <td>43.490019</td>\n",
       "      <td>31.493654</td>\n",
       "      <td>24.848064</td>\n",
       "      <td>38.048566</td>\n",
       "      <td>38.416339</td>\n",
       "      <td>3.062956</td>\n",
       "    </tr>\n",
       "    <tr>\n",
       "      <th>min</th>\n",
       "      <td>1.000000</td>\n",
       "      <td>204.000000</td>\n",
       "      <td>36.000000</td>\n",
       "      <td>2.000000</td>\n",
       "      <td>70.000000</td>\n",
       "      <td>53.000000</td>\n",
       "      <td>-89.000000</td>\n",
       "      <td>-89.000000</td>\n",
       "      <td>-89.000000</td>\n",
       "      <td>0.000000</td>\n",
       "    </tr>\n",
       "    <tr>\n",
       "      <th>25%</th>\n",
       "      <td>115711.000000</td>\n",
       "      <td>732.000000</td>\n",
       "      <td>140.000000</td>\n",
       "      <td>82.000000</td>\n",
       "      <td>364.000000</td>\n",
       "      <td>405.000000</td>\n",
       "      <td>36.000000</td>\n",
       "      <td>22.000000</td>\n",
       "      <td>28.000000</td>\n",
       "      <td>6.000000</td>\n",
       "    </tr>\n",
       "    <tr>\n",
       "      <th>50%</th>\n",
       "      <td>231037.000000</td>\n",
       "      <td>857.000000</td>\n",
       "      <td>156.000000</td>\n",
       "      <td>88.000000</td>\n",
       "      <td>390.000000</td>\n",
       "      <td>420.000000</td>\n",
       "      <td>52.000000</td>\n",
       "      <td>51.000000</td>\n",
       "      <td>44.000000</td>\n",
       "      <td>8.000000</td>\n",
       "    </tr>\n",
       "    <tr>\n",
       "      <th>75%</th>\n",
       "      <td>346411.000000</td>\n",
       "      <td>968.000000</td>\n",
       "      <td>172.000000</td>\n",
       "      <td>98.000000</td>\n",
       "      <td>416.000000</td>\n",
       "      <td>440.000000</td>\n",
       "      <td>65.000000</td>\n",
       "      <td>71.000000</td>\n",
       "      <td>59.000000</td>\n",
       "      <td>10.000000</td>\n",
       "    </tr>\n",
       "    <tr>\n",
       "      <th>max</th>\n",
       "      <td>461795.000000</td>\n",
       "      <td>30000.000000</td>\n",
       "      <td>1738.000000</td>\n",
       "      <td>380.000000</td>\n",
       "      <td>852.000000</td>\n",
       "      <td>878.000000</td>\n",
       "      <td>270.000000</td>\n",
       "      <td>270.000000</td>\n",
       "      <td>270.000000</td>\n",
       "      <td>23.000000</td>\n",
       "    </tr>\n",
       "  </tbody>\n",
       "</table>\n",
       "</div>"
      ],
      "text/plain": [
       "            personid             RR             PR            QRS  \\\n",
       "count  979273.000000  979239.000000  774260.000000  810373.000000   \n",
       "mean   231021.688946     851.683240     157.081364      91.061474   \n",
       "std    133238.981417     196.989159      26.661289      15.149489   \n",
       "min         1.000000     204.000000      36.000000       2.000000   \n",
       "25%    115711.000000     732.000000     140.000000      82.000000   \n",
       "50%    231037.000000     857.000000     156.000000      88.000000   \n",
       "75%    346411.000000     968.000000     172.000000      98.000000   \n",
       "max    461795.000000   30000.000000    1738.000000     380.000000   \n",
       "\n",
       "                  QT            QTc    P_wave_axis       QRS_axis  \\\n",
       "count  979273.000000  979273.000000  732827.000000  762274.000000   \n",
       "mean      389.997336     425.415081      48.357848      45.215670   \n",
       "std        43.490019      31.493654      24.848064      38.048566   \n",
       "min        70.000000      53.000000     -89.000000     -89.000000   \n",
       "25%       364.000000     405.000000      36.000000      22.000000   \n",
       "50%       390.000000     420.000000      52.000000      51.000000   \n",
       "75%       416.000000     440.000000      65.000000      71.000000   \n",
       "max       852.000000     878.000000     270.000000     270.000000   \n",
       "\n",
       "         T_wave_axis           ACCI  \n",
       "count  762248.000000  979273.000000  \n",
       "mean       46.198097       7.580933  \n",
       "std        38.416339       3.062956  \n",
       "min       -89.000000       0.000000  \n",
       "25%        28.000000       6.000000  \n",
       "50%        44.000000       8.000000  \n",
       "75%        59.000000      10.000000  \n",
       "max       270.000000      23.000000  "
      ]
     },
     "execution_count": 5,
     "metadata": {},
     "output_type": "execute_result"
    }
   ],
   "source": [
    "df_ECG.describe()"
   ]
  },
  {
   "cell_type": "code",
   "execution_count": 6,
   "metadata": {},
   "outputs": [
    {
     "data": {
      "text/plain": [
       "personid            0\n",
       "ecgdate             0\n",
       "ecgdept             0\n",
       "ecgsource           0\n",
       "RR                 34\n",
       "PR             205013\n",
       "QRS            168900\n",
       "QT                  0\n",
       "QTc                 0\n",
       "P_wave_axis    246446\n",
       "QRS_axis       216999\n",
       "T_wave_axis    217025\n",
       "ACCI                0\n",
       "dtype: int64"
      ]
     },
     "execution_count": 6,
     "metadata": {},
     "output_type": "execute_result"
    }
   ],
   "source": [
    "df_ECG.isnull().sum()"
   ]
  },
  {
   "cell_type": "code",
   "execution_count": 7,
   "metadata": {},
   "outputs": [],
   "source": [
    "# Drop instances that have missing values \n",
    "df_ECG_full = df_ECG.dropna(subset=['RR', 'PR', 'QRS', 'P_wave_axis','QRS_axis', 'T_wave_axis']);"
   ]
  },
  {
   "cell_type": "code",
   "execution_count": 8,
   "metadata": {},
   "outputs": [
    {
     "data": {
      "text/plain": [
       "personid       0\n",
       "ecgdate        0\n",
       "ecgdept        0\n",
       "ecgsource      0\n",
       "RR             0\n",
       "PR             0\n",
       "QRS            0\n",
       "QT             0\n",
       "QTc            0\n",
       "P_wave_axis    0\n",
       "QRS_axis       0\n",
       "T_wave_axis    0\n",
       "ACCI           0\n",
       "dtype: int64"
      ]
     },
     "execution_count": 8,
     "metadata": {},
     "output_type": "execute_result"
    }
   ],
   "source": [
    "df_ECG_full.isnull().sum()"
   ]
  },
  {
   "cell_type": "code",
   "execution_count": 9,
   "metadata": {},
   "outputs": [
    {
     "data": {
      "text/plain": [
       "(726444, 13)"
      ]
     },
     "execution_count": 9,
     "metadata": {},
     "output_type": "execute_result"
    }
   ],
   "source": [
    "df_ECG_full.shape"
   ]
  },
  {
   "cell_type": "code",
   "execution_count": 10,
   "metadata": {},
   "outputs": [],
   "source": [
    "# Drop unrelevant information \n",
    "df_ECG_full = df_ECG_full.drop(columns = ['ecgdate', 'ecgsource', 'ecgdept'])"
   ]
  },
  {
   "cell_type": "code",
   "execution_count": 11,
   "metadata": {},
   "outputs": [
    {
     "data": {
      "text/html": [
       "<div>\n",
       "<style scoped>\n",
       "    .dataframe tbody tr th:only-of-type {\n",
       "        vertical-align: middle;\n",
       "    }\n",
       "\n",
       "    .dataframe tbody tr th {\n",
       "        vertical-align: top;\n",
       "    }\n",
       "\n",
       "    .dataframe thead th {\n",
       "        text-align: right;\n",
       "    }\n",
       "</style>\n",
       "<table border=\"1\" class=\"dataframe\">\n",
       "  <thead>\n",
       "    <tr style=\"text-align: right;\">\n",
       "      <th></th>\n",
       "      <th>personid</th>\n",
       "      <th>RR</th>\n",
       "      <th>PR</th>\n",
       "      <th>QRS</th>\n",
       "      <th>QT</th>\n",
       "      <th>QTc</th>\n",
       "      <th>P_wave_axis</th>\n",
       "      <th>QRS_axis</th>\n",
       "      <th>T_wave_axis</th>\n",
       "      <th>ACCI</th>\n",
       "    </tr>\n",
       "  </thead>\n",
       "  <tbody>\n",
       "    <tr>\n",
       "      <th>2</th>\n",
       "      <td>270</td>\n",
       "      <td>600.0</td>\n",
       "      <td>122.0</td>\n",
       "      <td>78.0</td>\n",
       "      <td>318</td>\n",
       "      <td>410</td>\n",
       "      <td>62.0</td>\n",
       "      <td>86.0</td>\n",
       "      <td>61.0</td>\n",
       "      <td>7</td>\n",
       "    </tr>\n",
       "    <tr>\n",
       "      <th>3</th>\n",
       "      <td>306709</td>\n",
       "      <td>577.0</td>\n",
       "      <td>150.0</td>\n",
       "      <td>92.0</td>\n",
       "      <td>362</td>\n",
       "      <td>476</td>\n",
       "      <td>17.0</td>\n",
       "      <td>46.0</td>\n",
       "      <td>70.0</td>\n",
       "      <td>12</td>\n",
       "    </tr>\n",
       "    <tr>\n",
       "      <th>4</th>\n",
       "      <td>87768</td>\n",
       "      <td>698.0</td>\n",
       "      <td>136.0</td>\n",
       "      <td>88.0</td>\n",
       "      <td>354</td>\n",
       "      <td>423</td>\n",
       "      <td>28.0</td>\n",
       "      <td>59.0</td>\n",
       "      <td>29.0</td>\n",
       "      <td>3</td>\n",
       "    </tr>\n",
       "    <tr>\n",
       "      <th>5</th>\n",
       "      <td>209545</td>\n",
       "      <td>638.0</td>\n",
       "      <td>112.0</td>\n",
       "      <td>94.0</td>\n",
       "      <td>368</td>\n",
       "      <td>460</td>\n",
       "      <td>14.0</td>\n",
       "      <td>132.0</td>\n",
       "      <td>-3.0</td>\n",
       "      <td>6</td>\n",
       "    </tr>\n",
       "    <tr>\n",
       "      <th>8</th>\n",
       "      <td>269001</td>\n",
       "      <td>741.0</td>\n",
       "      <td>136.0</td>\n",
       "      <td>84.0</td>\n",
       "      <td>362</td>\n",
       "      <td>420</td>\n",
       "      <td>65.0</td>\n",
       "      <td>42.0</td>\n",
       "      <td>31.0</td>\n",
       "      <td>7</td>\n",
       "    </tr>\n",
       "  </tbody>\n",
       "</table>\n",
       "</div>"
      ],
      "text/plain": [
       "   personid     RR     PR   QRS   QT  QTc  P_wave_axis  QRS_axis  T_wave_axis  \\\n",
       "2       270  600.0  122.0  78.0  318  410         62.0      86.0         61.0   \n",
       "3    306709  577.0  150.0  92.0  362  476         17.0      46.0         70.0   \n",
       "4     87768  698.0  136.0  88.0  354  423         28.0      59.0         29.0   \n",
       "5    209545  638.0  112.0  94.0  368  460         14.0     132.0         -3.0   \n",
       "8    269001  741.0  136.0  84.0  362  420         65.0      42.0         31.0   \n",
       "\n",
       "   ACCI  \n",
       "2     7  \n",
       "3    12  \n",
       "4     3  \n",
       "5     6  \n",
       "8     7  "
      ]
     },
     "execution_count": 11,
     "metadata": {},
     "output_type": "execute_result"
    }
   ],
   "source": [
    "df_ECG_full.head()"
   ]
  },
  {
   "cell_type": "code",
   "execution_count": 12,
   "metadata": {},
   "outputs": [],
   "source": [
    "df_ECG_full['personid'].value_counts();"
   ]
  },
  {
   "cell_type": "markdown",
   "metadata": {},
   "source": [
    "## 2. Diagnosis Code + Personal Info (Sex)"
   ]
  },
  {
   "cell_type": "code",
   "execution_count": 13,
   "metadata": {},
   "outputs": [
    {
     "data": {
      "text/html": [
       "<div>\n",
       "<style scoped>\n",
       "    .dataframe tbody tr th:only-of-type {\n",
       "        vertical-align: middle;\n",
       "    }\n",
       "\n",
       "    .dataframe tbody tr th {\n",
       "        vertical-align: top;\n",
       "    }\n",
       "\n",
       "    .dataframe thead th {\n",
       "        text-align: right;\n",
       "    }\n",
       "</style>\n",
       "<table border=\"1\" class=\"dataframe\">\n",
       "  <thead>\n",
       "    <tr style=\"text-align: right;\">\n",
       "      <th></th>\n",
       "      <th>personid</th>\n",
       "      <th>diagdate</th>\n",
       "      <th>diagcode</th>\n",
       "      <th>diagdept</th>\n",
       "    </tr>\n",
       "  </thead>\n",
       "  <tbody>\n",
       "    <tr>\n",
       "      <th>0</th>\n",
       "      <td>141778</td>\n",
       "      <td>1997-06-04 00:00:00</td>\n",
       "      <td>otherdiagnosis</td>\n",
       "      <td>O</td>\n",
       "    </tr>\n",
       "    <tr>\n",
       "      <th>1</th>\n",
       "      <td>141778</td>\n",
       "      <td>1997-06-07 00:00:00</td>\n",
       "      <td>otherdiagnosis</td>\n",
       "      <td>O</td>\n",
       "    </tr>\n",
       "    <tr>\n",
       "      <th>2</th>\n",
       "      <td>141778</td>\n",
       "      <td>1997-06-16 00:00:00</td>\n",
       "      <td>otherdiagnosis</td>\n",
       "      <td>O</td>\n",
       "    </tr>\n",
       "    <tr>\n",
       "      <th>3</th>\n",
       "      <td>141778</td>\n",
       "      <td>1997-06-23 00:00:00</td>\n",
       "      <td>otherdiagnosis</td>\n",
       "      <td>O</td>\n",
       "    </tr>\n",
       "    <tr>\n",
       "      <th>4</th>\n",
       "      <td>141778</td>\n",
       "      <td>1997-06-30 00:00:00</td>\n",
       "      <td>otherdiagnosis</td>\n",
       "      <td>O</td>\n",
       "    </tr>\n",
       "  </tbody>\n",
       "</table>\n",
       "</div>"
      ],
      "text/plain": [
       "   personid             diagdate        diagcode diagdept\n",
       "0    141778  1997-06-04 00:00:00  otherdiagnosis        O\n",
       "1    141778  1997-06-07 00:00:00  otherdiagnosis        O\n",
       "2    141778  1997-06-16 00:00:00  otherdiagnosis        O\n",
       "3    141778  1997-06-23 00:00:00  otherdiagnosis        O\n",
       "4    141778  1997-06-30 00:00:00  otherdiagnosis        O"
      ]
     },
     "execution_count": 13,
     "metadata": {},
     "output_type": "execute_result"
    }
   ],
   "source": [
    "df_diag = pd.read_csv('Diagnosis.csv', encoding='latin-1')\n",
    "df_diag.head()"
   ]
  },
  {
   "cell_type": "code",
   "execution_count": 14,
   "metadata": {},
   "outputs": [
    {
     "data": {
      "text/plain": [
       "(7743772, 4)"
      ]
     },
     "execution_count": 14,
     "metadata": {},
     "output_type": "execute_result"
    }
   ],
   "source": [
    "df_diag.shape"
   ]
  },
  {
   "cell_type": "code",
   "execution_count": 15,
   "metadata": {},
   "outputs": [],
   "source": [
    "# Drop duplicate entries (repeated entry of the same ID)\n",
    "df_diag_two = df_diag.sort_values('diagdate').drop_duplicates('personid',keep='last')\n",
    "df_diag_two.sort_values(by=['personid']);"
   ]
  },
  {
   "cell_type": "code",
   "execution_count": 16,
   "metadata": {},
   "outputs": [],
   "source": [
    "df_diag_two['personid'].value_counts();"
   ]
  },
  {
   "cell_type": "code",
   "execution_count": 17,
   "metadata": {},
   "outputs": [
    {
     "data": {
      "text/plain": [
       "(424363, 4)"
      ]
     },
     "execution_count": 17,
     "metadata": {},
     "output_type": "execute_result"
    }
   ],
   "source": [
    "df_diag_two.shape"
   ]
  },
  {
   "cell_type": "code",
   "execution_count": 18,
   "metadata": {
    "scrolled": true
   },
   "outputs": [
    {
     "data": {
      "text/html": [
       "<div>\n",
       "<style scoped>\n",
       "    .dataframe tbody tr th:only-of-type {\n",
       "        vertical-align: middle;\n",
       "    }\n",
       "\n",
       "    .dataframe tbody tr th {\n",
       "        vertical-align: top;\n",
       "    }\n",
       "\n",
       "    .dataframe thead th {\n",
       "        text-align: right;\n",
       "    }\n",
       "</style>\n",
       "<table border=\"1\" class=\"dataframe\">\n",
       "  <thead>\n",
       "    <tr style=\"text-align: right;\">\n",
       "      <th></th>\n",
       "      <th>personid</th>\n",
       "      <th>sex</th>\n",
       "      <th>Birthyeargroup</th>\n",
       "      <th>ethnicity</th>\n",
       "    </tr>\n",
       "  </thead>\n",
       "  <tbody>\n",
       "    <tr>\n",
       "      <th>0</th>\n",
       "      <td>369485</td>\n",
       "      <td>1</td>\n",
       "      <td>16</td>\n",
       "      <td>1</td>\n",
       "    </tr>\n",
       "    <tr>\n",
       "      <th>1</th>\n",
       "      <td>138392</td>\n",
       "      <td>0</td>\n",
       "      <td>14</td>\n",
       "      <td>1</td>\n",
       "    </tr>\n",
       "    <tr>\n",
       "      <th>2</th>\n",
       "      <td>188469</td>\n",
       "      <td>1</td>\n",
       "      <td>20</td>\n",
       "      <td>1</td>\n",
       "    </tr>\n",
       "    <tr>\n",
       "      <th>3</th>\n",
       "      <td>169164</td>\n",
       "      <td>0</td>\n",
       "      <td>12</td>\n",
       "      <td>1</td>\n",
       "    </tr>\n",
       "    <tr>\n",
       "      <th>4</th>\n",
       "      <td>434516</td>\n",
       "      <td>1</td>\n",
       "      <td>14</td>\n",
       "      <td>1</td>\n",
       "    </tr>\n",
       "  </tbody>\n",
       "</table>\n",
       "</div>"
      ],
      "text/plain": [
       "   personid  sex  Birthyeargroup  ethnicity\n",
       "0    369485    1              16          1\n",
       "1    138392    0              14          1\n",
       "2    188469    1              20          1\n",
       "3    169164    0              12          1\n",
       "4    434516    1              14          1"
      ]
     },
     "execution_count": 18,
     "metadata": {},
     "output_type": "execute_result"
    }
   ],
   "source": [
    "df_person = pd.read_csv('Person.csv')\n",
    "df_person.head()"
   ]
  },
  {
   "cell_type": "code",
   "execution_count": 19,
   "metadata": {},
   "outputs": [
    {
     "data": {
      "text/plain": [
       "(461034, 4)"
      ]
     },
     "execution_count": 19,
     "metadata": {},
     "output_type": "execute_result"
    }
   ],
   "source": [
    "df_person.shape"
   ]
  },
  {
   "cell_type": "code",
   "execution_count": 20,
   "metadata": {},
   "outputs": [],
   "source": [
    "# Merge the diagnosis dataset with the personal info dataset with the common column (personid)\n",
    "df_diag_person = pd.merge(df_diag_two, df_person, on='personid')"
   ]
  },
  {
   "cell_type": "code",
   "execution_count": 21,
   "metadata": {},
   "outputs": [
    {
     "data": {
      "text/html": [
       "<div>\n",
       "<style scoped>\n",
       "    .dataframe tbody tr th:only-of-type {\n",
       "        vertical-align: middle;\n",
       "    }\n",
       "\n",
       "    .dataframe tbody tr th {\n",
       "        vertical-align: top;\n",
       "    }\n",
       "\n",
       "    .dataframe thead th {\n",
       "        text-align: right;\n",
       "    }\n",
       "</style>\n",
       "<table border=\"1\" class=\"dataframe\">\n",
       "  <thead>\n",
       "    <tr style=\"text-align: right;\">\n",
       "      <th></th>\n",
       "      <th>personid</th>\n",
       "      <th>diagdate</th>\n",
       "      <th>diagcode</th>\n",
       "      <th>diagdept</th>\n",
       "      <th>sex</th>\n",
       "      <th>Birthyeargroup</th>\n",
       "      <th>ethnicity</th>\n",
       "    </tr>\n",
       "  </thead>\n",
       "  <tbody>\n",
       "    <tr>\n",
       "      <th>0</th>\n",
       "      <td>68536</td>\n",
       "      <td>1994-08-30 02:37:00</td>\n",
       "      <td>otherdiagnosis</td>\n",
       "      <td>I</td>\n",
       "      <td>1</td>\n",
       "      <td>16</td>\n",
       "      <td>1</td>\n",
       "    </tr>\n",
       "    <tr>\n",
       "      <th>1</th>\n",
       "      <td>216182</td>\n",
       "      <td>1995-01-03 23:45:00</td>\n",
       "      <td>otherdiagnosis</td>\n",
       "      <td>I</td>\n",
       "      <td>1</td>\n",
       "      <td>4</td>\n",
       "      <td>1</td>\n",
       "    </tr>\n",
       "    <tr>\n",
       "      <th>2</th>\n",
       "      <td>458392</td>\n",
       "      <td>1995-01-04 16:27:00</td>\n",
       "      <td>otherdiagnosis</td>\n",
       "      <td>I</td>\n",
       "      <td>1</td>\n",
       "      <td>10</td>\n",
       "      <td>1</td>\n",
       "    </tr>\n",
       "    <tr>\n",
       "      <th>3</th>\n",
       "      <td>396139</td>\n",
       "      <td>1995-01-06 15:19:00</td>\n",
       "      <td>otherdiagnosis</td>\n",
       "      <td>I</td>\n",
       "      <td>0</td>\n",
       "      <td>7</td>\n",
       "      <td>1</td>\n",
       "    </tr>\n",
       "    <tr>\n",
       "      <th>4</th>\n",
       "      <td>251126</td>\n",
       "      <td>1995-01-12 17:33:00</td>\n",
       "      <td>otherdiagnosis</td>\n",
       "      <td>I</td>\n",
       "      <td>0</td>\n",
       "      <td>11</td>\n",
       "      <td>1</td>\n",
       "    </tr>\n",
       "  </tbody>\n",
       "</table>\n",
       "</div>"
      ],
      "text/plain": [
       "   personid             diagdate        diagcode diagdept  sex  \\\n",
       "0     68536  1994-08-30 02:37:00  otherdiagnosis        I    1   \n",
       "1    216182  1995-01-03 23:45:00  otherdiagnosis        I    1   \n",
       "2    458392  1995-01-04 16:27:00  otherdiagnosis        I    1   \n",
       "3    396139  1995-01-06 15:19:00  otherdiagnosis        I    0   \n",
       "4    251126  1995-01-12 17:33:00  otherdiagnosis        I    0   \n",
       "\n",
       "   Birthyeargroup  ethnicity  \n",
       "0              16          1  \n",
       "1               4          1  \n",
       "2              10          1  \n",
       "3               7          1  \n",
       "4              11          1  "
      ]
     },
     "execution_count": 21,
     "metadata": {},
     "output_type": "execute_result"
    }
   ],
   "source": [
    "df_diag_person.head()"
   ]
  },
  {
   "cell_type": "code",
   "execution_count": 22,
   "metadata": {},
   "outputs": [
    {
     "data": {
      "text/plain": [
       "(424363, 7)"
      ]
     },
     "execution_count": 22,
     "metadata": {},
     "output_type": "execute_result"
    }
   ],
   "source": [
    "df_diag_person.shape"
   ]
  },
  {
   "cell_type": "code",
   "execution_count": 23,
   "metadata": {},
   "outputs": [
    {
     "data": {
      "text/plain": [
       "personid          0\n",
       "diagdate          0\n",
       "diagcode          0\n",
       "diagdept          0\n",
       "sex               0\n",
       "Birthyeargroup    0\n",
       "ethnicity         0\n",
       "dtype: int64"
      ]
     },
     "execution_count": 23,
     "metadata": {},
     "output_type": "execute_result"
    }
   ],
   "source": [
    "df_diag_person.isnull().sum()"
   ]
  },
  {
   "cell_type": "code",
   "execution_count": 24,
   "metadata": {},
   "outputs": [
    {
     "data": {
      "text/html": [
       "<div>\n",
       "<style scoped>\n",
       "    .dataframe tbody tr th:only-of-type {\n",
       "        vertical-align: middle;\n",
       "    }\n",
       "\n",
       "    .dataframe tbody tr th {\n",
       "        vertical-align: top;\n",
       "    }\n",
       "\n",
       "    .dataframe thead th {\n",
       "        text-align: right;\n",
       "    }\n",
       "</style>\n",
       "<table border=\"1\" class=\"dataframe\">\n",
       "  <thead>\n",
       "    <tr style=\"text-align: right;\">\n",
       "      <th></th>\n",
       "      <th>personid</th>\n",
       "      <th>diagdate</th>\n",
       "      <th>diagcode</th>\n",
       "      <th>diagdept</th>\n",
       "      <th>sex</th>\n",
       "      <th>Birthyeargroup</th>\n",
       "      <th>ethnicity</th>\n",
       "      <th>MI</th>\n",
       "    </tr>\n",
       "  </thead>\n",
       "  <tbody>\n",
       "    <tr>\n",
       "      <th>0</th>\n",
       "      <td>68536</td>\n",
       "      <td>1994-08-30 02:37:00</td>\n",
       "      <td>otherdiagnosis</td>\n",
       "      <td>I</td>\n",
       "      <td>1</td>\n",
       "      <td>16</td>\n",
       "      <td>1</td>\n",
       "      <td>0</td>\n",
       "    </tr>\n",
       "    <tr>\n",
       "      <th>1</th>\n",
       "      <td>216182</td>\n",
       "      <td>1995-01-03 23:45:00</td>\n",
       "      <td>otherdiagnosis</td>\n",
       "      <td>I</td>\n",
       "      <td>1</td>\n",
       "      <td>4</td>\n",
       "      <td>1</td>\n",
       "      <td>0</td>\n",
       "    </tr>\n",
       "    <tr>\n",
       "      <th>2</th>\n",
       "      <td>458392</td>\n",
       "      <td>1995-01-04 16:27:00</td>\n",
       "      <td>otherdiagnosis</td>\n",
       "      <td>I</td>\n",
       "      <td>1</td>\n",
       "      <td>10</td>\n",
       "      <td>1</td>\n",
       "      <td>0</td>\n",
       "    </tr>\n",
       "    <tr>\n",
       "      <th>3</th>\n",
       "      <td>396139</td>\n",
       "      <td>1995-01-06 15:19:00</td>\n",
       "      <td>otherdiagnosis</td>\n",
       "      <td>I</td>\n",
       "      <td>0</td>\n",
       "      <td>7</td>\n",
       "      <td>1</td>\n",
       "      <td>0</td>\n",
       "    </tr>\n",
       "    <tr>\n",
       "      <th>4</th>\n",
       "      <td>251126</td>\n",
       "      <td>1995-01-12 17:33:00</td>\n",
       "      <td>otherdiagnosis</td>\n",
       "      <td>I</td>\n",
       "      <td>0</td>\n",
       "      <td>11</td>\n",
       "      <td>1</td>\n",
       "      <td>0</td>\n",
       "    </tr>\n",
       "  </tbody>\n",
       "</table>\n",
       "</div>"
      ],
      "text/plain": [
       "   personid             diagdate        diagcode diagdept  sex  \\\n",
       "0     68536  1994-08-30 02:37:00  otherdiagnosis        I    1   \n",
       "1    216182  1995-01-03 23:45:00  otherdiagnosis        I    1   \n",
       "2    458392  1995-01-04 16:27:00  otherdiagnosis        I    1   \n",
       "3    396139  1995-01-06 15:19:00  otherdiagnosis        I    0   \n",
       "4    251126  1995-01-12 17:33:00  otherdiagnosis        I    0   \n",
       "\n",
       "   Birthyeargroup  ethnicity MI  \n",
       "0              16          1  0  \n",
       "1               4          1  0  \n",
       "2              10          1  0  \n",
       "3               7          1  0  \n",
       "4              11          1  0  "
      ]
     },
     "execution_count": 24,
     "metadata": {},
     "output_type": "execute_result"
    }
   ],
   "source": [
    "####################### Create a new feature base on the diagnosis code: MI (1 = MI, 0 = no) ################\n",
    "\n",
    "# To select rows whose column value is in list \n",
    "code = ['I20','I25']\n",
    "condition = df_diag_person.diagcode.isin(code)\n",
    "\n",
    "df_diag_person['MI'] = np.where(condition, '1', '0')\n",
    "df_diag_person.head()"
   ]
  },
  {
   "cell_type": "code",
   "execution_count": 25,
   "metadata": {},
   "outputs": [
    {
     "data": {
      "text/plain": [
       "(424363, 8)"
      ]
     },
     "execution_count": 25,
     "metadata": {},
     "output_type": "execute_result"
    }
   ],
   "source": [
    "df_diag_person.shape"
   ]
  },
  {
   "cell_type": "code",
   "execution_count": 26,
   "metadata": {},
   "outputs": [
    {
     "data": {
      "text/plain": [
       "I20    4358\n",
       "Name: diagcode, dtype: int64"
      ]
     },
     "execution_count": 26,
     "metadata": {},
     "output_type": "execute_result"
    }
   ],
   "source": [
    "# Check the number of entries of a specific diagnostic code \n",
    "df_diag_person['diagcode'][df_diag_person['diagcode'] == \"I20\"].value_counts()"
   ]
  },
  {
   "cell_type": "code",
   "execution_count": 27,
   "metadata": {},
   "outputs": [],
   "source": [
    "df_diag_person['diagcode'].value_counts();"
   ]
  },
  {
   "cell_type": "code",
   "execution_count": 28,
   "metadata": {},
   "outputs": [
    {
     "data": {
      "text/plain": [
       "0    418200\n",
       "1      6163\n",
       "Name: MI, dtype: int64"
      ]
     },
     "execution_count": 28,
     "metadata": {},
     "output_type": "execute_result"
    }
   ],
   "source": [
    "df_diag_person['MI'].value_counts()"
   ]
  },
  {
   "cell_type": "code",
   "execution_count": 29,
   "metadata": {},
   "outputs": [
    {
     "data": {
      "text/plain": [
       "<AxesSubplot:title={'center':'MI Count'}>"
      ]
     },
     "execution_count": 29,
     "metadata": {},
     "output_type": "execute_result"
    },
    {
     "data": {
      "image/png": "[encoded data removed]",
      "text/plain": [
       "<Figure size 720x360 with 1 Axes>"
      ]
     },
     "metadata": {
      "needs_background": "light"
     },
     "output_type": "display_data"
    }
   ],
   "source": [
    "df_diag_person['MI'].value_counts().plot(kind='bar', title='MI Count')"
   ]
  },
  {
   "cell_type": "code",
   "execution_count": 30,
   "metadata": {},
   "outputs": [
    {
     "data": {
      "text/html": [
       "<div>\n",
       "<style scoped>\n",
       "    .dataframe tbody tr th:only-of-type {\n",
       "        vertical-align: middle;\n",
       "    }\n",
       "\n",
       "    .dataframe tbody tr th {\n",
       "        vertical-align: top;\n",
       "    }\n",
       "\n",
       "    .dataframe thead th {\n",
       "        text-align: right;\n",
       "    }\n",
       "</style>\n",
       "<table border=\"1\" class=\"dataframe\">\n",
       "  <thead>\n",
       "    <tr style=\"text-align: right;\">\n",
       "      <th></th>\n",
       "      <th>personid</th>\n",
       "      <th>diagdate</th>\n",
       "      <th>diagcode</th>\n",
       "      <th>diagdept</th>\n",
       "      <th>sex</th>\n",
       "      <th>Birthyeargroup</th>\n",
       "      <th>ethnicity</th>\n",
       "      <th>MI</th>\n",
       "    </tr>\n",
       "  </thead>\n",
       "  <tbody>\n",
       "    <tr>\n",
       "      <th>0</th>\n",
       "      <td>68536</td>\n",
       "      <td>1994-08-30 02:37:00</td>\n",
       "      <td>otherdiagnosis</td>\n",
       "      <td>I</td>\n",
       "      <td>1</td>\n",
       "      <td>16</td>\n",
       "      <td>1</td>\n",
       "      <td>0</td>\n",
       "    </tr>\n",
       "    <tr>\n",
       "      <th>1</th>\n",
       "      <td>216182</td>\n",
       "      <td>1995-01-03 23:45:00</td>\n",
       "      <td>otherdiagnosis</td>\n",
       "      <td>I</td>\n",
       "      <td>1</td>\n",
       "      <td>4</td>\n",
       "      <td>1</td>\n",
       "      <td>0</td>\n",
       "    </tr>\n",
       "    <tr>\n",
       "      <th>2</th>\n",
       "      <td>458392</td>\n",
       "      <td>1995-01-04 16:27:00</td>\n",
       "      <td>otherdiagnosis</td>\n",
       "      <td>I</td>\n",
       "      <td>1</td>\n",
       "      <td>10</td>\n",
       "      <td>1</td>\n",
       "      <td>0</td>\n",
       "    </tr>\n",
       "    <tr>\n",
       "      <th>3</th>\n",
       "      <td>396139</td>\n",
       "      <td>1995-01-06 15:19:00</td>\n",
       "      <td>otherdiagnosis</td>\n",
       "      <td>I</td>\n",
       "      <td>0</td>\n",
       "      <td>7</td>\n",
       "      <td>1</td>\n",
       "      <td>0</td>\n",
       "    </tr>\n",
       "    <tr>\n",
       "      <th>4</th>\n",
       "      <td>251126</td>\n",
       "      <td>1995-01-12 17:33:00</td>\n",
       "      <td>otherdiagnosis</td>\n",
       "      <td>I</td>\n",
       "      <td>0</td>\n",
       "      <td>11</td>\n",
       "      <td>1</td>\n",
       "      <td>0</td>\n",
       "    </tr>\n",
       "  </tbody>\n",
       "</table>\n",
       "</div>"
      ],
      "text/plain": [
       "   personid             diagdate        diagcode diagdept  sex  \\\n",
       "0     68536  1994-08-30 02:37:00  otherdiagnosis        I    1   \n",
       "1    216182  1995-01-03 23:45:00  otherdiagnosis        I    1   \n",
       "2    458392  1995-01-04 16:27:00  otherdiagnosis        I    1   \n",
       "3    396139  1995-01-06 15:19:00  otherdiagnosis        I    0   \n",
       "4    251126  1995-01-12 17:33:00  otherdiagnosis        I    0   \n",
       "\n",
       "   Birthyeargroup  ethnicity MI  \n",
       "0              16          1  0  \n",
       "1               4          1  0  \n",
       "2              10          1  0  \n",
       "3               7          1  0  \n",
       "4              11          1  0  "
      ]
     },
     "execution_count": 30,
     "metadata": {},
     "output_type": "execute_result"
    }
   ],
   "source": [
    "df_diag_person.head()"
   ]
  },
  {
   "cell_type": "markdown",
   "metadata": {},
   "source": [
    "## 3. Merge To Obtain The Final Dataset "
   ]
  },
  {
   "cell_type": "code",
   "execution_count": 31,
   "metadata": {},
   "outputs": [
    {
     "data": {
      "text/html": [
       "<div>\n",
       "<style scoped>\n",
       "    .dataframe tbody tr th:only-of-type {\n",
       "        vertical-align: middle;\n",
       "    }\n",
       "\n",
       "    .dataframe tbody tr th {\n",
       "        vertical-align: top;\n",
       "    }\n",
       "\n",
       "    .dataframe thead th {\n",
       "        text-align: right;\n",
       "    }\n",
       "</style>\n",
       "<table border=\"1\" class=\"dataframe\">\n",
       "  <thead>\n",
       "    <tr style=\"text-align: right;\">\n",
       "      <th></th>\n",
       "      <th>personid</th>\n",
       "      <th>RR</th>\n",
       "      <th>PR</th>\n",
       "      <th>QRS</th>\n",
       "      <th>QT</th>\n",
       "      <th>QTc</th>\n",
       "      <th>P_wave_axis</th>\n",
       "      <th>QRS_axis</th>\n",
       "      <th>T_wave_axis</th>\n",
       "      <th>ACCI</th>\n",
       "      <th>diagdate</th>\n",
       "      <th>diagcode</th>\n",
       "      <th>diagdept</th>\n",
       "      <th>sex</th>\n",
       "      <th>Birthyeargroup</th>\n",
       "      <th>ethnicity</th>\n",
       "      <th>MI</th>\n",
       "    </tr>\n",
       "  </thead>\n",
       "  <tbody>\n",
       "    <tr>\n",
       "      <th>0</th>\n",
       "      <td>270</td>\n",
       "      <td>600.0</td>\n",
       "      <td>122.0</td>\n",
       "      <td>78.0</td>\n",
       "      <td>318</td>\n",
       "      <td>410</td>\n",
       "      <td>62.0</td>\n",
       "      <td>86.0</td>\n",
       "      <td>61.0</td>\n",
       "      <td>7</td>\n",
       "      <td>2004-07-19 00:00:00</td>\n",
       "      <td>otherdiagnosis</td>\n",
       "      <td>O</td>\n",
       "      <td>1</td>\n",
       "      <td>21</td>\n",
       "      <td>1</td>\n",
       "      <td>0</td>\n",
       "    </tr>\n",
       "    <tr>\n",
       "      <th>1</th>\n",
       "      <td>270</td>\n",
       "      <td>594.0</td>\n",
       "      <td>124.0</td>\n",
       "      <td>78.0</td>\n",
       "      <td>306</td>\n",
       "      <td>396</td>\n",
       "      <td>67.0</td>\n",
       "      <td>85.0</td>\n",
       "      <td>60.0</td>\n",
       "      <td>7</td>\n",
       "      <td>2004-07-19 00:00:00</td>\n",
       "      <td>otherdiagnosis</td>\n",
       "      <td>O</td>\n",
       "      <td>1</td>\n",
       "      <td>21</td>\n",
       "      <td>1</td>\n",
       "      <td>0</td>\n",
       "    </tr>\n",
       "    <tr>\n",
       "      <th>2</th>\n",
       "      <td>306709</td>\n",
       "      <td>577.0</td>\n",
       "      <td>150.0</td>\n",
       "      <td>92.0</td>\n",
       "      <td>362</td>\n",
       "      <td>476</td>\n",
       "      <td>17.0</td>\n",
       "      <td>46.0</td>\n",
       "      <td>70.0</td>\n",
       "      <td>12</td>\n",
       "      <td>2013-06-16 17:15:00</td>\n",
       "      <td>I10</td>\n",
       "      <td>I</td>\n",
       "      <td>0</td>\n",
       "      <td>7</td>\n",
       "      <td>1</td>\n",
       "      <td>0</td>\n",
       "    </tr>\n",
       "    <tr>\n",
       "      <th>3</th>\n",
       "      <td>306709</td>\n",
       "      <td>645.0</td>\n",
       "      <td>162.0</td>\n",
       "      <td>90.0</td>\n",
       "      <td>372</td>\n",
       "      <td>462</td>\n",
       "      <td>99.0</td>\n",
       "      <td>55.0</td>\n",
       "      <td>82.0</td>\n",
       "      <td>11</td>\n",
       "      <td>2013-06-16 17:15:00</td>\n",
       "      <td>I10</td>\n",
       "      <td>I</td>\n",
       "      <td>0</td>\n",
       "      <td>7</td>\n",
       "      <td>1</td>\n",
       "      <td>0</td>\n",
       "    </tr>\n",
       "    <tr>\n",
       "      <th>4</th>\n",
       "      <td>306709</td>\n",
       "      <td>638.0</td>\n",
       "      <td>200.0</td>\n",
       "      <td>94.0</td>\n",
       "      <td>378</td>\n",
       "      <td>472</td>\n",
       "      <td>17.0</td>\n",
       "      <td>67.0</td>\n",
       "      <td>84.0</td>\n",
       "      <td>12</td>\n",
       "      <td>2013-06-16 17:15:00</td>\n",
       "      <td>I10</td>\n",
       "      <td>I</td>\n",
       "      <td>0</td>\n",
       "      <td>7</td>\n",
       "      <td>1</td>\n",
       "      <td>0</td>\n",
       "    </tr>\n",
       "  </tbody>\n",
       "</table>\n",
       "</div>"
      ],
      "text/plain": [
       "   personid     RR     PR   QRS   QT  QTc  P_wave_axis  QRS_axis  T_wave_axis  \\\n",
       "0       270  600.0  122.0  78.0  318  410         62.0      86.0         61.0   \n",
       "1       270  594.0  124.0  78.0  306  396         67.0      85.0         60.0   \n",
       "2    306709  577.0  150.0  92.0  362  476         17.0      46.0         70.0   \n",
       "3    306709  645.0  162.0  90.0  372  462         99.0      55.0         82.0   \n",
       "4    306709  638.0  200.0  94.0  378  472         17.0      67.0         84.0   \n",
       "\n",
       "   ACCI             diagdate        diagcode diagdept  sex  Birthyeargroup  \\\n",
       "0     7  2004-07-19 00:00:00  otherdiagnosis        O    1              21   \n",
       "1     7  2004-07-19 00:00:00  otherdiagnosis        O    1              21   \n",
       "2    12  2013-06-16 17:15:00             I10        I    0               7   \n",
       "3    11  2013-06-16 17:15:00             I10        I    0               7   \n",
       "4    12  2013-06-16 17:15:00             I10        I    0               7   \n",
       "\n",
       "   ethnicity MI  \n",
       "0          1  0  \n",
       "1          1  0  \n",
       "2          1  0  \n",
       "3          1  0  \n",
       "4          1  0  "
      ]
     },
     "execution_count": 31,
     "metadata": {},
     "output_type": "execute_result"
    }
   ],
   "source": [
    "# Merge the ecg dataset with the combined diagnosis/personal info dataset using the common column (personid)\n",
    "df_1 = pd.merge(df_ECG_full, df_diag_person, on='personid')\n",
    "df_1.head()"
   ]
  },
  {
   "cell_type": "code",
   "execution_count": 32,
   "metadata": {},
   "outputs": [
    {
     "data": {
      "text/plain": [
       "(713447, 17)"
      ]
     },
     "execution_count": 32,
     "metadata": {},
     "output_type": "execute_result"
    }
   ],
   "source": [
    "df_1.shape"
   ]
  },
  {
   "cell_type": "code",
   "execution_count": 33,
   "metadata": {},
   "outputs": [
    {
     "data": {
      "text/html": [
       "<div>\n",
       "<style scoped>\n",
       "    .dataframe tbody tr th:only-of-type {\n",
       "        vertical-align: middle;\n",
       "    }\n",
       "\n",
       "    .dataframe tbody tr th {\n",
       "        vertical-align: top;\n",
       "    }\n",
       "\n",
       "    .dataframe thead th {\n",
       "        text-align: right;\n",
       "    }\n",
       "</style>\n",
       "<table border=\"1\" class=\"dataframe\">\n",
       "  <thead>\n",
       "    <tr style=\"text-align: right;\">\n",
       "      <th></th>\n",
       "      <th>RR</th>\n",
       "      <th>PR</th>\n",
       "      <th>QRS</th>\n",
       "      <th>QT</th>\n",
       "      <th>QTc</th>\n",
       "      <th>P_wave_axis</th>\n",
       "      <th>QRS_axis</th>\n",
       "      <th>T_wave_axis</th>\n",
       "      <th>ACCI</th>\n",
       "      <th>sex</th>\n",
       "      <th>Birthyeargroup</th>\n",
       "      <th>MI</th>\n",
       "    </tr>\n",
       "  </thead>\n",
       "  <tbody>\n",
       "    <tr>\n",
       "      <th>0</th>\n",
       "      <td>600.0</td>\n",
       "      <td>122.0</td>\n",
       "      <td>78.0</td>\n",
       "      <td>318</td>\n",
       "      <td>410</td>\n",
       "      <td>62.0</td>\n",
       "      <td>86.0</td>\n",
       "      <td>61.0</td>\n",
       "      <td>7</td>\n",
       "      <td>1</td>\n",
       "      <td>21</td>\n",
       "      <td>0</td>\n",
       "    </tr>\n",
       "    <tr>\n",
       "      <th>1</th>\n",
       "      <td>594.0</td>\n",
       "      <td>124.0</td>\n",
       "      <td>78.0</td>\n",
       "      <td>306</td>\n",
       "      <td>396</td>\n",
       "      <td>67.0</td>\n",
       "      <td>85.0</td>\n",
       "      <td>60.0</td>\n",
       "      <td>7</td>\n",
       "      <td>1</td>\n",
       "      <td>21</td>\n",
       "      <td>0</td>\n",
       "    </tr>\n",
       "    <tr>\n",
       "      <th>2</th>\n",
       "      <td>577.0</td>\n",
       "      <td>150.0</td>\n",
       "      <td>92.0</td>\n",
       "      <td>362</td>\n",
       "      <td>476</td>\n",
       "      <td>17.0</td>\n",
       "      <td>46.0</td>\n",
       "      <td>70.0</td>\n",
       "      <td>12</td>\n",
       "      <td>0</td>\n",
       "      <td>7</td>\n",
       "      <td>0</td>\n",
       "    </tr>\n",
       "    <tr>\n",
       "      <th>3</th>\n",
       "      <td>645.0</td>\n",
       "      <td>162.0</td>\n",
       "      <td>90.0</td>\n",
       "      <td>372</td>\n",
       "      <td>462</td>\n",
       "      <td>99.0</td>\n",
       "      <td>55.0</td>\n",
       "      <td>82.0</td>\n",
       "      <td>11</td>\n",
       "      <td>0</td>\n",
       "      <td>7</td>\n",
       "      <td>0</td>\n",
       "    </tr>\n",
       "    <tr>\n",
       "      <th>4</th>\n",
       "      <td>638.0</td>\n",
       "      <td>200.0</td>\n",
       "      <td>94.0</td>\n",
       "      <td>378</td>\n",
       "      <td>472</td>\n",
       "      <td>17.0</td>\n",
       "      <td>67.0</td>\n",
       "      <td>84.0</td>\n",
       "      <td>12</td>\n",
       "      <td>0</td>\n",
       "      <td>7</td>\n",
       "      <td>0</td>\n",
       "    </tr>\n",
       "  </tbody>\n",
       "</table>\n",
       "</div>"
      ],
      "text/plain": [
       "      RR     PR   QRS   QT  QTc  P_wave_axis  QRS_axis  T_wave_axis  ACCI  \\\n",
       "0  600.0  122.0  78.0  318  410         62.0      86.0         61.0     7   \n",
       "1  594.0  124.0  78.0  306  396         67.0      85.0         60.0     7   \n",
       "2  577.0  150.0  92.0  362  476         17.0      46.0         70.0    12   \n",
       "3  645.0  162.0  90.0  372  462         99.0      55.0         82.0    11   \n",
       "4  638.0  200.0  94.0  378  472         17.0      67.0         84.0    12   \n",
       "\n",
       "   sex  Birthyeargroup MI  \n",
       "0    1              21  0  \n",
       "1    1              21  0  \n",
       "2    0               7  0  \n",
       "3    0               7  0  \n",
       "4    0               7  0  "
      ]
     },
     "execution_count": 33,
     "metadata": {},
     "output_type": "execute_result"
    }
   ],
   "source": [
    "df_2 = df_1.drop(columns = ['diagdate', 'diagcode', 'diagdept', 'personid', 'ethnicity'])\n",
    "col_names = df_2.columns\n",
    "df_2.head()"
   ]
  },
  {
   "cell_type": "code",
   "execution_count": 34,
   "metadata": {},
   "outputs": [],
   "source": [
    "df_2['Birthyeargroup'].value_counts();"
   ]
  },
  {
   "cell_type": "code",
   "execution_count": 35,
   "metadata": {},
   "outputs": [
    {
     "data": {
      "text/plain": [
       "(713447, 12)"
      ]
     },
     "execution_count": 35,
     "metadata": {},
     "output_type": "execute_result"
    }
   ],
   "source": [
    "df_2.shape"
   ]
  },
  {
   "cell_type": "code",
   "execution_count": 36,
   "metadata": {},
   "outputs": [
    {
     "data": {
      "text/plain": [
       "0    688837\n",
       "1     24610\n",
       "Name: MI, dtype: int64"
      ]
     },
     "execution_count": 36,
     "metadata": {},
     "output_type": "execute_result"
    }
   ],
   "source": [
    "df_2['MI'].value_counts()"
   ]
  },
  {
   "cell_type": "code",
   "execution_count": 37,
   "metadata": {},
   "outputs": [
    {
     "data": {
      "text/plain": [
       "<AxesSubplot:title={'center':'MI Count'}>"
      ]
     },
     "execution_count": 37,
     "metadata": {},
     "output_type": "execute_result"
    },
    {
     "data": {
      "image/png": "[encoded data removed]",
      "text/plain": [
       "<Figure size 720x360 with 1 Axes>"
      ]
     },
     "metadata": {
      "needs_background": "light"
     },
     "output_type": "display_data"
    }
   ],
   "source": [
    "df_2['MI'].value_counts().plot(kind='bar', title='MI Count')"
   ]
  },
  {
   "cell_type": "markdown",
   "metadata": {},
   "source": [
    "## 4. Robust Scaling & SMOTE "
   ]
  },
  {
   "cell_type": "code",
   "execution_count": 38,
   "metadata": {},
   "outputs": [],
   "source": [
    "# Get training data from dataframe\n",
    "train_data = df_2.values"
   ]
  },
  {
   "cell_type": "code",
   "execution_count": 39,
   "metadata": {},
   "outputs": [],
   "source": [
    "# Defining the scaler\n",
    "robust_scaler = RobustScaler().fit(train_data)\n",
    "\n",
    "# Scaling test data using robust scaling\n",
    "train_data_robust = robust_scaler.transform(train_data)\n",
    "\n",
    "# Training data features\n",
    "train_features_robust= train_data_robust[:, 0:11]\n",
    "\n",
    "# 'MI' column values\n",
    "train_target_robust = train_data_robust[:, 11]"
   ]
  },
  {
   "cell_type": "code",
   "execution_count": 40,
   "metadata": {},
   "outputs": [],
   "source": [
    "# Minority oversampling using SMOTE\n",
    "over = SMOTE(sampling_strategy=0.25) \n",
    "under = RandomUnderSampler(sampling_strategy=0.5)\n",
    "steps = [('o', over), ('u', under)]\n",
    "pipeline = Pipeline(steps=steps)\n",
    "\n",
    "# Transform the dataset\n",
    "x_resampled, y_resampled = pipeline.fit_resample(train_features_robust, train_target_robust)"
   ]
  },
  {
   "cell_type": "code",
   "execution_count": 41,
   "metadata": {},
   "outputs": [],
   "source": [
    "# Split 80-20 train vs test data\n",
    "x_train, x_test, y_train, y_test = train_test_split(x_resampled, \n",
    "                                                    y_resampled, \n",
    "                                                    test_size=0.20, \n",
    "                                                    random_state=0,\n",
    "                                                    shuffle=True)"
   ]
  },
  {
   "cell_type": "markdown",
   "metadata": {},
   "source": [
    "## 5. Exporting Data As CSV"
   ]
  },
  {
   "cell_type": "code",
   "execution_count": 42,
   "metadata": {},
   "outputs": [],
   "source": [
    "# Export train data\n",
    "df_train=pd.DataFrame(data=x_train)\n",
    "df_train.insert(11, column= 'labels', value=y_train)\n",
    "df_train.to_csv('train.csv', index=False, header=False)\n",
    "\n",
    "# Export test data\n",
    "df_train=pd.DataFrame(data=x_test)\n",
    "df_train.insert(11, column= 'labels', value=y_test)\n",
    "df_train.to_csv('test.csv', index=False, header=False)"
   ]
  }
 ],
 "metadata": {
  "kernelspec": {
   "display_name": "Python 3 (ipykernel)",
   "language": "python",
   "name": "python3"
  },
  "language_info": {
   "codemirror_mode": {
    "name": "ipython",
    "version": 3
   },
   "file_extension": ".py",
   "mimetype": "text/x-python",
   "name": "python",
   "nbconvert_exporter": "python",
   "pygments_lexer": "ipython3",
   "version": "3.9.10"
  }
 },
 "nbformat": 4,
 "nbformat_minor": 2
}
